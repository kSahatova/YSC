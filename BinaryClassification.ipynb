{
 "cells": [
  {
   "cell_type": "code",
   "execution_count": 398,
   "metadata": {},
   "outputs": [],
   "source": [
    "import os\n",
    "import shutil\n",
    "import glob\n",
    "import numpy as np\n",
    "import matplotlib.pyplot as plt"
   ]
  },
  {
   "cell_type": "code",
   "execution_count": 516,
   "metadata": {},
   "outputs": [],
   "source": [
    "data_dir = 'dataset2'\n",
    "#data_dir2 = 'dataset2_without_pc'\n",
    "#data_dir = data_dir2\n",
    "if os.path.exists(data_dir):\n",
    "    pass\n",
    "else:\n",
    "    os.mkdir(data_dir)"
   ]
  },
  {
   "cell_type": "code",
   "execution_count": 407,
   "metadata": {},
   "outputs": [],
   "source": [
    "if os.path.isdir(data_dir):\n",
    "    if not os.path.isdir(os.path.join(data_dir, 'OilReservoir')):\n",
    "        os.mkdir(os.path.join(data_dir, 'OilReservoir'))\n",
    "    else:\n",
    "        files = glob.glob(os.path.join(data_dir, 'OilReservoir/*'))\n",
    "        for f in files:\n",
    "            os.remove(f)\n",
    "    if not os.path.isdir(os.path.join(data_dir, 'NoOilReservoir')):\n",
    "        os.mkdir(os.path.join(data_dir, 'NoOilReservoir'))\n",
    "    else:\n",
    "        files = glob.glob(os.path.join(data_dir, 'NoOilReservoir/*'))\n",
    "        for f in files:\n",
    "            os.remove(f)"
   ]
  },
  {
   "cell_type": "code",
   "execution_count": 401,
   "metadata": {},
   "outputs": [],
   "source": [
    "data = np.load('raw_inv_data/seismic_cube_raw.npy')"
   ]
  },
  {
   "cell_type": "code",
   "execution_count": 402,
   "metadata": {},
   "outputs": [
    {
     "data": {
      "text/plain": [
       "450"
      ]
     },
     "execution_count": 402,
     "metadata": {},
     "output_type": "execute_result"
    }
   ],
   "source": [
    "data.shape[2]"
   ]
  },
  {
   "cell_type": "code",
   "execution_count": 517,
   "metadata": {},
   "outputs": [
    {
     "data": {
      "text/plain": [
       "('dataset2/OilReservoir', 'dataset2/NoOilReservoir')"
      ]
     },
     "execution_count": 517,
     "metadata": {},
     "output_type": "execute_result"
    }
   ],
   "source": [
    "data_dir1 = os.path.join(data_dir, 'OilReservoir')\n",
    "data_dir2 = os.path.join(data_dir, 'NoOilReservoir')\n",
    "data_dir1, data_dir2"
   ]
  },
  {
   "cell_type": "code",
   "execution_count": 408,
   "metadata": {},
   "outputs": [
    {
     "data": {
      "text/plain": [
       "(91, 360)"
      ]
     },
     "execution_count": 408,
     "metadata": {},
     "output_type": "execute_result"
    }
   ],
   "source": [
    "#for the first dataset\n",
    "counter1 = 0\n",
    "counter2 = 0\n",
    "for i in range(0, 450):\n",
    "    if i >= 134 and i < 224:\n",
    "        plt.imsave(os.path.join(data_dir, 'OilReservoir', \"oil_reservoir\" + str(counter1) + \".png\"), data[:, :, i],cmap = 'seismic', format='png')\n",
    "        counter1 += 1\n",
    "    elif i < 134 or (i > 224 and i < 450):        \n",
    "        plt.imsave(os.path.join(data_dir, 'NoOilReservoir', \"no_oil_reservoir\" + str(counter2) + \".png\"), data[:, :, i],cmap = 'seismic', format='png')\n",
    "        counter2 += 1\n",
    "len(os.listdir('dataset1/OilReservoir')), len(os.listdir('dataset1/NoOilReservoir'))"
   ]
  },
  {
   "cell_type": "code",
   "execution_count": 168,
   "metadata": {},
   "outputs": [],
   "source": [
    " #for the second dataset\n",
    "counter1 = 0\n",
    "counter2 = 0\n",
    "for i in range(data.shape[2]):\n",
    "    if  i >= 275 and i <= 300 :\n",
    "        pass\n",
    "    elif i >= 335 and i<= 347 : #(i >= 275 and i <= 300 and i >= 335 and i<= 347):\n",
    "        pass        \n",
    "    elif i > 135 and i < 225 :\n",
    "        plt.imsave(os.path.join(data_dir1, \"oil_reservoir\" + str(counter1) + \".png\"), data[:, :, i],cmap = 'seismic', format='png')\n",
    "        counter1 += 1\n",
    "    else:\n",
    "        plt.imsave(os.path.join(data_dir2, \"no_oil_reservoir\" + str(counter2) + \".png\"), data[:, :, i],cmap = 'seismic', format='png')\n",
    "        counter2 += 1\n",
    " #i>= 0 and i <= 134 and i >= 226 and i <= 275 and i >= 301 and i <= 334 and i>= 348 and i < 450   "
   ]
  },
  {
   "cell_type": "code",
   "execution_count": 518,
   "metadata": {},
   "outputs": [],
   "source": [
    "train_dir = 'train'\n",
    "val_dir = 'val'\n",
    "test_dir = 'test'\n",
    "test_data_portion = 0.15\n",
    "val_data_portion = 0.15\n",
    "\n",
    "ImagesOf_NoOil=len(os.listdir(data_dir +'/NoOilReservoir'))\n",
    "ImagesOf_Oil=len(os.listdir('dataset1/OilReservoir'))\n",
    "nb_images = ImagesOf_Oil \n",
    "nb_images_no = ImagesOf_NoOil \n",
    "\n",
    "img_width, img_height = 640, 401\n",
    "input_shape = (img_width, img_height, 3)\n",
    "\n",
    "epochs = 30  \n",
    "batch_size = 32 \n",
    "\n"
   ]
  },
  {
   "cell_type": "code",
   "execution_count": 519,
   "metadata": {},
   "outputs": [
    {
     "data": {
      "text/plain": [
       "(91, 320)"
      ]
     },
     "execution_count": 519,
     "metadata": {},
     "output_type": "execute_result"
    }
   ],
   "source": [
    "nb_images, nb_images_no"
   ]
  },
  {
   "cell_type": "code",
   "execution_count": 520,
   "metadata": {},
   "outputs": [],
   "source": [
    "def create_directory(dir_name):\n",
    "    if os.path.exists(os.path.join(data_dir, dir_name)):\n",
    "        shutil.rmtree(os.path.join(data_dir, dir_name))\n",
    "    os.makedirs(os.path.join(data_dir, dir_name))\n",
    "    os.makedirs(os.path.join(data_dir, dir_name, \"oil_reservoir\"))\n",
    "    os.makedirs(os.path.join(data_dir, dir_name, \"no_oil_reservoir\"))"
   ]
  },
  {
   "cell_type": "code",
   "execution_count": 521,
   "metadata": {},
   "outputs": [],
   "source": [
    "create_directory(train_dir)\n",
    "create_directory(val_dir)\n",
    "create_directory(test_dir)"
   ]
  },
  {
   "cell_type": "code",
   "execution_count": 522,
   "metadata": {},
   "outputs": [
    {
     "name": "stdout",
     "output_type": "stream",
     "text": [
      "63\n",
      "77\n"
     ]
    }
   ],
   "source": [
    "start_val_data_idx = int(nb_images * (1 - val_data_portion - test_data_portion))\n",
    "start_test_data_idx = int(nb_images * (1 - test_data_portion))\n",
    "print(start_val_data_idx)\n",
    "print(start_test_data_idx)"
   ]
  },
  {
   "cell_type": "code",
   "execution_count": 523,
   "metadata": {},
   "outputs": [
    {
     "name": "stdout",
     "output_type": "stream",
     "text": [
      "224\n",
      "272\n"
     ]
    }
   ],
   "source": [
    "start_val_data_idx_no = int(nb_images_no * (1 - val_data_portion - test_data_portion))\n",
    "start_test_data_idx_no = int(nb_images_no * (1 - test_data_portion))\n",
    "print(start_val_data_idx_no)\n",
    "print(start_test_data_idx_no)"
   ]
  },
  {
   "cell_type": "code",
   "execution_count": 524,
   "metadata": {},
   "outputs": [],
   "source": [
    "def copy_oil_res_images(start_index, end_index, data_dir1, dest_dir):\n",
    "    for i in range(start_index, end_index):\n",
    "        shutil.copy2(os.path.join(data_dir1, \"oil_reservoir\" + str(i) + \".png\"), \n",
    "                   os.path.join(data_dir, dest_dir, \"oil_reservoir\"))"
   ]
  },
  {
   "cell_type": "code",
   "execution_count": 525,
   "metadata": {},
   "outputs": [],
   "source": [
    "def copy_no_oil_res_images(start_index, end_index, data_dir2, dest_dir):\n",
    "    for i in range(start_index, end_index):\n",
    "        shutil.copy2(os.path.join(data_dir2, \"no_oil_reservoir\" + str(i) + \".png\"), \n",
    "                   os.path.join(data_dir, dest_dir, \"no_oil_reservoir\"))\n",
    "        "
   ]
  },
  {
   "cell_type": "code",
   "execution_count": 526,
   "metadata": {},
   "outputs": [],
   "source": [
    "copy_oil_res_images(0, start_val_data_idx, data_dir1, train_dir)\n",
    "copy_oil_res_images(start_val_data_idx, start_test_data_idx, data_dir1, val_dir)\n",
    "copy_oil_res_images(start_test_data_idx, nb_images, data_dir1, test_dir)"
   ]
  },
  {
   "cell_type": "code",
   "execution_count": 527,
   "metadata": {},
   "outputs": [],
   "source": [
    "copy_no_oil_res_images(0, start_val_data_idx_no, data_dir2, train_dir)\n",
    "copy_no_oil_res_images(start_val_data_idx_no, start_test_data_idx_no, data_dir2, val_dir)\n",
    "copy_no_oil_res_images(start_test_data_idx_no, nb_images_no, data_dir2, test_dir)"
   ]
  },
  {
   "cell_type": "code",
   "execution_count": 533,
   "metadata": {},
   "outputs": [
    {
     "name": "stdout",
     "output_type": "stream",
     "text": [
      "14 63 14\n",
      "92\n",
      "True\n"
     ]
    }
   ],
   "source": [
    "a = len(os.listdir('dataset2/test/oil_reservoir'))\n",
    "b = len(os.listdir('dataset2/train/oil_reservoir'))\n",
    "c = len(os.listdir('dataset2/val/oil_reservoir'))\n",
    "print(a, b, c)\n",
    "print(len(os.listdir('dataset2/OilReservoir')))\n",
    "print(a+b+c == len(os.listdir('dataset1/OilReservoir')))"
   ]
  },
  {
   "cell_type": "code",
   "execution_count": 535,
   "metadata": {},
   "outputs": [
    {
     "name": "stdout",
     "output_type": "stream",
     "text": [
      "True\n"
     ]
    }
   ],
   "source": [
    "a = len(os.listdir('dataset2/test/no_oil_reservoir'))\n",
    "b = len(os.listdir('dataset2/train/no_oil_reservoir'))\n",
    "c = len(os.listdir('dataset2/val/no_oil_reservoir'))\n",
    "print(a+b+c == len(os.listdir('dataset2/NoOilReservoir')))"
   ]
  },
  {
   "cell_type": "code",
   "execution_count": 136,
   "metadata": {},
   "outputs": [],
   "source": [
    "# Files removing\n",
    "files = glob.glob('dataset2_without_pc_in/OilReservoir/*.png')\n",
    "for f in files:\n",
    "    os.remove(f)\n"
   ]
  },
  {
   "cell_type": "code",
   "execution_count": 137,
   "metadata": {},
   "outputs": [],
   "source": [
    "shutil.rmtree('dataset2_without_pc_in')"
   ]
  },
  {
   "cell_type": "markdown",
   "metadata": {},
   "source": [
    "# CNN"
   ]
  },
  {
   "cell_type": "code",
   "execution_count": 487,
   "metadata": {},
   "outputs": [],
   "source": [
    "from tensorflow.python.keras.models import Sequential\n",
    "from tensorflow.python.keras.layers import Conv2D, MaxPooling2D\n",
    "from tensorflow.python.keras.layers import Activation, Dropout, Flatten, Dense"
   ]
  },
  {
   "cell_type": "code",
   "execution_count": 461,
   "metadata": {},
   "outputs": [],
   "source": [
    "model = Sequential()\n",
    "model.add(Conv2D(32, (3, 3), input_shape=input_shape)) # increase the number  of neurons \n",
    "model.add(Activation('relu'))\n",
    "model.add(MaxPooling2D(pool_size=(2, 2)))\n",
    "\n",
    "model.add(Dropout(0.5))\n",
    "\n",
    "model.add(Conv2D(64, (3, 3)))\n",
    "model.add(Activation('relu'))\n",
    "model.add(MaxPooling2D(pool_size=(2, 2)))\n",
    "\n",
    "model.add(Dropout(0.5))\n",
    "\n",
    "model.add(Conv2D(128, (3, 3)))\n",
    "model.add(Activation('relu'))\n",
    "model.add(MaxPooling2D(pool_size=(2, 2)))\n",
    "\n",
    "model.add(Dropout(0.5))\n",
    "\n",
    "model.add(Flatten())\n",
    "model.add(Dense(64))\n",
    "model.add(Activation('relu'))\n",
    "model.add(Dropout(0.5))\n",
    "model.add(Dense(1))\n",
    "model.add(Activation('sigmoid'))"
   ]
  },
  {
   "cell_type": "code",
   "execution_count": 462,
   "metadata": {},
   "outputs": [],
   "source": [
    "model.compile(loss='binary_crossentropy',\n",
    "              optimizer='adam',\n",
    "              metrics=['accuracy'])"
   ]
  },
  {
   "cell_type": "markdown",
   "metadata": {},
   "source": [
    "# Image Generator"
   ]
  },
  {
   "cell_type": "code",
   "execution_count": 488,
   "metadata": {},
   "outputs": [],
   "source": [
    "from keras.preprocessing.image import ImageDataGenerator"
   ]
  },
  {
   "cell_type": "code",
   "execution_count": 536,
   "metadata": {},
   "outputs": [],
   "source": [
    "train_datagen = ImageDataGenerator(\n",
    "        rescale=1./255,\n",
    "        shear_range=0.2,\n",
    "        zoom_range=0.2,\n",
    "        horizontal_flip=True)"
   ]
  },
  {
   "cell_type": "code",
   "execution_count": 537,
   "metadata": {},
   "outputs": [],
   "source": [
    "datagen = ImageDataGenerator(rescale=1. / 255)"
   ]
  },
  {
   "cell_type": "code",
   "execution_count": 538,
   "metadata": {},
   "outputs": [
    {
     "name": "stdout",
     "output_type": "stream",
     "text": [
      "Found 287 images belonging to 2 classes.\n"
     ]
    }
   ],
   "source": [
    "train_generator = train_datagen.flow_from_directory(\n",
    "    os.path.join(data_dir, train_dir),\n",
    "    target_size=(img_width, img_height),\n",
    "    batch_size=batch_size,\n",
    "    class_mode='binary')"
   ]
  },
  {
   "cell_type": "code",
   "execution_count": 539,
   "metadata": {
    "collapsed": true,
    "jupyter": {
     "outputs_hidden": true
    }
   },
   "outputs": [
    {
     "data": {
      "text/plain": [
       "{'image_data_generator': <tensorflow.python.keras.preprocessing.image.ImageDataGenerator at 0x7f0ed8975c10>,\n",
       " 'target_size': (640, 401),\n",
       " 'color_mode': 'rgb',\n",
       " 'data_format': 'channels_last',\n",
       " 'image_shape': (640, 401, 3),\n",
       " 'save_to_dir': None,\n",
       " 'save_prefix': '',\n",
       " 'save_format': 'png',\n",
       " 'interpolation': 'nearest',\n",
       " 'split': None,\n",
       " 'subset': None,\n",
       " 'directory': 'dataset2/train',\n",
       " 'classes': array([0, 0, 0, 0, 0, 0, 0, 0, 0, 0, 0, 0, 0, 0, 0, 0, 0, 0, 0, 0, 0, 0,\n",
       "        0, 0, 0, 0, 0, 0, 0, 0, 0, 0, 0, 0, 0, 0, 0, 0, 0, 0, 0, 0, 0, 0,\n",
       "        0, 0, 0, 0, 0, 0, 0, 0, 0, 0, 0, 0, 0, 0, 0, 0, 0, 0, 0, 0, 0, 0,\n",
       "        0, 0, 0, 0, 0, 0, 0, 0, 0, 0, 0, 0, 0, 0, 0, 0, 0, 0, 0, 0, 0, 0,\n",
       "        0, 0, 0, 0, 0, 0, 0, 0, 0, 0, 0, 0, 0, 0, 0, 0, 0, 0, 0, 0, 0, 0,\n",
       "        0, 0, 0, 0, 0, 0, 0, 0, 0, 0, 0, 0, 0, 0, 0, 0, 0, 0, 0, 0, 0, 0,\n",
       "        0, 0, 0, 0, 0, 0, 0, 0, 0, 0, 0, 0, 0, 0, 0, 0, 0, 0, 0, 0, 0, 0,\n",
       "        0, 0, 0, 0, 0, 0, 0, 0, 0, 0, 0, 0, 0, 0, 0, 0, 0, 0, 0, 0, 0, 0,\n",
       "        0, 0, 0, 0, 0, 0, 0, 0, 0, 0, 0, 0, 0, 0, 0, 0, 0, 0, 0, 0, 0, 0,\n",
       "        0, 0, 0, 0, 0, 0, 0, 0, 0, 0, 0, 0, 0, 0, 0, 0, 0, 0, 0, 0, 0, 0,\n",
       "        0, 0, 0, 0, 1, 1, 1, 1, 1, 1, 1, 1, 1, 1, 1, 1, 1, 1, 1, 1, 1, 1,\n",
       "        1, 1, 1, 1, 1, 1, 1, 1, 1, 1, 1, 1, 1, 1, 1, 1, 1, 1, 1, 1, 1, 1,\n",
       "        1, 1, 1, 1, 1, 1, 1, 1, 1, 1, 1, 1, 1, 1, 1, 1, 1, 1, 1, 1, 1, 1,\n",
       "        1], dtype=int32),\n",
       " 'class_mode': 'binary',\n",
       " 'dtype': 'float32',\n",
       " 'samples': 287,\n",
       " 'num_classes': 2,\n",
       " 'class_indices': {'no_oil_reservoir': 0, 'oil_reservoir': 1},\n",
       " 'filenames': ['no_oil_reservoir/no_oil_reservoir0.png',\n",
       "  'no_oil_reservoir/no_oil_reservoir1.png',\n",
       "  'no_oil_reservoir/no_oil_reservoir10.png',\n",
       "  'no_oil_reservoir/no_oil_reservoir100.png',\n",
       "  'no_oil_reservoir/no_oil_reservoir101.png',\n",
       "  'no_oil_reservoir/no_oil_reservoir102.png',\n",
       "  'no_oil_reservoir/no_oil_reservoir103.png',\n",
       "  'no_oil_reservoir/no_oil_reservoir104.png',\n",
       "  'no_oil_reservoir/no_oil_reservoir105.png',\n",
       "  'no_oil_reservoir/no_oil_reservoir106.png',\n",
       "  'no_oil_reservoir/no_oil_reservoir107.png',\n",
       "  'no_oil_reservoir/no_oil_reservoir108.png',\n",
       "  'no_oil_reservoir/no_oil_reservoir109.png',\n",
       "  'no_oil_reservoir/no_oil_reservoir11.png',\n",
       "  'no_oil_reservoir/no_oil_reservoir110.png',\n",
       "  'no_oil_reservoir/no_oil_reservoir111.png',\n",
       "  'no_oil_reservoir/no_oil_reservoir112.png',\n",
       "  'no_oil_reservoir/no_oil_reservoir113.png',\n",
       "  'no_oil_reservoir/no_oil_reservoir114.png',\n",
       "  'no_oil_reservoir/no_oil_reservoir115.png',\n",
       "  'no_oil_reservoir/no_oil_reservoir116.png',\n",
       "  'no_oil_reservoir/no_oil_reservoir117.png',\n",
       "  'no_oil_reservoir/no_oil_reservoir118.png',\n",
       "  'no_oil_reservoir/no_oil_reservoir119.png',\n",
       "  'no_oil_reservoir/no_oil_reservoir12.png',\n",
       "  'no_oil_reservoir/no_oil_reservoir120.png',\n",
       "  'no_oil_reservoir/no_oil_reservoir121.png',\n",
       "  'no_oil_reservoir/no_oil_reservoir122.png',\n",
       "  'no_oil_reservoir/no_oil_reservoir123.png',\n",
       "  'no_oil_reservoir/no_oil_reservoir124.png',\n",
       "  'no_oil_reservoir/no_oil_reservoir125.png',\n",
       "  'no_oil_reservoir/no_oil_reservoir126.png',\n",
       "  'no_oil_reservoir/no_oil_reservoir127.png',\n",
       "  'no_oil_reservoir/no_oil_reservoir128.png',\n",
       "  'no_oil_reservoir/no_oil_reservoir129.png',\n",
       "  'no_oil_reservoir/no_oil_reservoir13.png',\n",
       "  'no_oil_reservoir/no_oil_reservoir130.png',\n",
       "  'no_oil_reservoir/no_oil_reservoir131.png',\n",
       "  'no_oil_reservoir/no_oil_reservoir132.png',\n",
       "  'no_oil_reservoir/no_oil_reservoir133.png',\n",
       "  'no_oil_reservoir/no_oil_reservoir134.png',\n",
       "  'no_oil_reservoir/no_oil_reservoir135.png',\n",
       "  'no_oil_reservoir/no_oil_reservoir136.png',\n",
       "  'no_oil_reservoir/no_oil_reservoir137.png',\n",
       "  'no_oil_reservoir/no_oil_reservoir138.png',\n",
       "  'no_oil_reservoir/no_oil_reservoir139.png',\n",
       "  'no_oil_reservoir/no_oil_reservoir14.png',\n",
       "  'no_oil_reservoir/no_oil_reservoir140.png',\n",
       "  'no_oil_reservoir/no_oil_reservoir141.png',\n",
       "  'no_oil_reservoir/no_oil_reservoir142.png',\n",
       "  'no_oil_reservoir/no_oil_reservoir143.png',\n",
       "  'no_oil_reservoir/no_oil_reservoir144.png',\n",
       "  'no_oil_reservoir/no_oil_reservoir145.png',\n",
       "  'no_oil_reservoir/no_oil_reservoir146.png',\n",
       "  'no_oil_reservoir/no_oil_reservoir147.png',\n",
       "  'no_oil_reservoir/no_oil_reservoir148.png',\n",
       "  'no_oil_reservoir/no_oil_reservoir149.png',\n",
       "  'no_oil_reservoir/no_oil_reservoir15.png',\n",
       "  'no_oil_reservoir/no_oil_reservoir150.png',\n",
       "  'no_oil_reservoir/no_oil_reservoir151.png',\n",
       "  'no_oil_reservoir/no_oil_reservoir152.png',\n",
       "  'no_oil_reservoir/no_oil_reservoir153.png',\n",
       "  'no_oil_reservoir/no_oil_reservoir154.png',\n",
       "  'no_oil_reservoir/no_oil_reservoir155.png',\n",
       "  'no_oil_reservoir/no_oil_reservoir156.png',\n",
       "  'no_oil_reservoir/no_oil_reservoir157.png',\n",
       "  'no_oil_reservoir/no_oil_reservoir158.png',\n",
       "  'no_oil_reservoir/no_oil_reservoir159.png',\n",
       "  'no_oil_reservoir/no_oil_reservoir16.png',\n",
       "  'no_oil_reservoir/no_oil_reservoir160.png',\n",
       "  'no_oil_reservoir/no_oil_reservoir161.png',\n",
       "  'no_oil_reservoir/no_oil_reservoir162.png',\n",
       "  'no_oil_reservoir/no_oil_reservoir163.png',\n",
       "  'no_oil_reservoir/no_oil_reservoir164.png',\n",
       "  'no_oil_reservoir/no_oil_reservoir165.png',\n",
       "  'no_oil_reservoir/no_oil_reservoir166.png',\n",
       "  'no_oil_reservoir/no_oil_reservoir167.png',\n",
       "  'no_oil_reservoir/no_oil_reservoir168.png',\n",
       "  'no_oil_reservoir/no_oil_reservoir169.png',\n",
       "  'no_oil_reservoir/no_oil_reservoir17.png',\n",
       "  'no_oil_reservoir/no_oil_reservoir170.png',\n",
       "  'no_oil_reservoir/no_oil_reservoir171.png',\n",
       "  'no_oil_reservoir/no_oil_reservoir172.png',\n",
       "  'no_oil_reservoir/no_oil_reservoir173.png',\n",
       "  'no_oil_reservoir/no_oil_reservoir174.png',\n",
       "  'no_oil_reservoir/no_oil_reservoir175.png',\n",
       "  'no_oil_reservoir/no_oil_reservoir176.png',\n",
       "  'no_oil_reservoir/no_oil_reservoir177.png',\n",
       "  'no_oil_reservoir/no_oil_reservoir178.png',\n",
       "  'no_oil_reservoir/no_oil_reservoir179.png',\n",
       "  'no_oil_reservoir/no_oil_reservoir18.png',\n",
       "  'no_oil_reservoir/no_oil_reservoir180.png',\n",
       "  'no_oil_reservoir/no_oil_reservoir181.png',\n",
       "  'no_oil_reservoir/no_oil_reservoir182.png',\n",
       "  'no_oil_reservoir/no_oil_reservoir183.png',\n",
       "  'no_oil_reservoir/no_oil_reservoir184.png',\n",
       "  'no_oil_reservoir/no_oil_reservoir185.png',\n",
       "  'no_oil_reservoir/no_oil_reservoir186.png',\n",
       "  'no_oil_reservoir/no_oil_reservoir187.png',\n",
       "  'no_oil_reservoir/no_oil_reservoir188.png',\n",
       "  'no_oil_reservoir/no_oil_reservoir189.png',\n",
       "  'no_oil_reservoir/no_oil_reservoir19.png',\n",
       "  'no_oil_reservoir/no_oil_reservoir190.png',\n",
       "  'no_oil_reservoir/no_oil_reservoir191.png',\n",
       "  'no_oil_reservoir/no_oil_reservoir192.png',\n",
       "  'no_oil_reservoir/no_oil_reservoir193.png',\n",
       "  'no_oil_reservoir/no_oil_reservoir194.png',\n",
       "  'no_oil_reservoir/no_oil_reservoir195.png',\n",
       "  'no_oil_reservoir/no_oil_reservoir196.png',\n",
       "  'no_oil_reservoir/no_oil_reservoir197.png',\n",
       "  'no_oil_reservoir/no_oil_reservoir198.png',\n",
       "  'no_oil_reservoir/no_oil_reservoir199.png',\n",
       "  'no_oil_reservoir/no_oil_reservoir2.png',\n",
       "  'no_oil_reservoir/no_oil_reservoir20.png',\n",
       "  'no_oil_reservoir/no_oil_reservoir200.png',\n",
       "  'no_oil_reservoir/no_oil_reservoir201.png',\n",
       "  'no_oil_reservoir/no_oil_reservoir202.png',\n",
       "  'no_oil_reservoir/no_oil_reservoir203.png',\n",
       "  'no_oil_reservoir/no_oil_reservoir204.png',\n",
       "  'no_oil_reservoir/no_oil_reservoir205.png',\n",
       "  'no_oil_reservoir/no_oil_reservoir206.png',\n",
       "  'no_oil_reservoir/no_oil_reservoir207.png',\n",
       "  'no_oil_reservoir/no_oil_reservoir208.png',\n",
       "  'no_oil_reservoir/no_oil_reservoir209.png',\n",
       "  'no_oil_reservoir/no_oil_reservoir21.png',\n",
       "  'no_oil_reservoir/no_oil_reservoir210.png',\n",
       "  'no_oil_reservoir/no_oil_reservoir211.png',\n",
       "  'no_oil_reservoir/no_oil_reservoir212.png',\n",
       "  'no_oil_reservoir/no_oil_reservoir213.png',\n",
       "  'no_oil_reservoir/no_oil_reservoir214.png',\n",
       "  'no_oil_reservoir/no_oil_reservoir215.png',\n",
       "  'no_oil_reservoir/no_oil_reservoir216.png',\n",
       "  'no_oil_reservoir/no_oil_reservoir217.png',\n",
       "  'no_oil_reservoir/no_oil_reservoir218.png',\n",
       "  'no_oil_reservoir/no_oil_reservoir219.png',\n",
       "  'no_oil_reservoir/no_oil_reservoir22.png',\n",
       "  'no_oil_reservoir/no_oil_reservoir220.png',\n",
       "  'no_oil_reservoir/no_oil_reservoir221.png',\n",
       "  'no_oil_reservoir/no_oil_reservoir222.png',\n",
       "  'no_oil_reservoir/no_oil_reservoir223.png',\n",
       "  'no_oil_reservoir/no_oil_reservoir23.png',\n",
       "  'no_oil_reservoir/no_oil_reservoir24.png',\n",
       "  'no_oil_reservoir/no_oil_reservoir25.png',\n",
       "  'no_oil_reservoir/no_oil_reservoir26.png',\n",
       "  'no_oil_reservoir/no_oil_reservoir27.png',\n",
       "  'no_oil_reservoir/no_oil_reservoir28.png',\n",
       "  'no_oil_reservoir/no_oil_reservoir29.png',\n",
       "  'no_oil_reservoir/no_oil_reservoir3.png',\n",
       "  'no_oil_reservoir/no_oil_reservoir30.png',\n",
       "  'no_oil_reservoir/no_oil_reservoir31.png',\n",
       "  'no_oil_reservoir/no_oil_reservoir32.png',\n",
       "  'no_oil_reservoir/no_oil_reservoir33.png',\n",
       "  'no_oil_reservoir/no_oil_reservoir34.png',\n",
       "  'no_oil_reservoir/no_oil_reservoir35.png',\n",
       "  'no_oil_reservoir/no_oil_reservoir36.png',\n",
       "  'no_oil_reservoir/no_oil_reservoir37.png',\n",
       "  'no_oil_reservoir/no_oil_reservoir38.png',\n",
       "  'no_oil_reservoir/no_oil_reservoir39.png',\n",
       "  'no_oil_reservoir/no_oil_reservoir4.png',\n",
       "  'no_oil_reservoir/no_oil_reservoir40.png',\n",
       "  'no_oil_reservoir/no_oil_reservoir41.png',\n",
       "  'no_oil_reservoir/no_oil_reservoir42.png',\n",
       "  'no_oil_reservoir/no_oil_reservoir43.png',\n",
       "  'no_oil_reservoir/no_oil_reservoir44.png',\n",
       "  'no_oil_reservoir/no_oil_reservoir45.png',\n",
       "  'no_oil_reservoir/no_oil_reservoir46.png',\n",
       "  'no_oil_reservoir/no_oil_reservoir47.png',\n",
       "  'no_oil_reservoir/no_oil_reservoir48.png',\n",
       "  'no_oil_reservoir/no_oil_reservoir49.png',\n",
       "  'no_oil_reservoir/no_oil_reservoir5.png',\n",
       "  'no_oil_reservoir/no_oil_reservoir50.png',\n",
       "  'no_oil_reservoir/no_oil_reservoir51.png',\n",
       "  'no_oil_reservoir/no_oil_reservoir52.png',\n",
       "  'no_oil_reservoir/no_oil_reservoir53.png',\n",
       "  'no_oil_reservoir/no_oil_reservoir54.png',\n",
       "  'no_oil_reservoir/no_oil_reservoir55.png',\n",
       "  'no_oil_reservoir/no_oil_reservoir56.png',\n",
       "  'no_oil_reservoir/no_oil_reservoir57.png',\n",
       "  'no_oil_reservoir/no_oil_reservoir58.png',\n",
       "  'no_oil_reservoir/no_oil_reservoir59.png',\n",
       "  'no_oil_reservoir/no_oil_reservoir6.png',\n",
       "  'no_oil_reservoir/no_oil_reservoir60.png',\n",
       "  'no_oil_reservoir/no_oil_reservoir61.png',\n",
       "  'no_oil_reservoir/no_oil_reservoir62.png',\n",
       "  'no_oil_reservoir/no_oil_reservoir63.png',\n",
       "  'no_oil_reservoir/no_oil_reservoir64.png',\n",
       "  'no_oil_reservoir/no_oil_reservoir65.png',\n",
       "  'no_oil_reservoir/no_oil_reservoir66.png',\n",
       "  'no_oil_reservoir/no_oil_reservoir67.png',\n",
       "  'no_oil_reservoir/no_oil_reservoir68.png',\n",
       "  'no_oil_reservoir/no_oil_reservoir69.png',\n",
       "  'no_oil_reservoir/no_oil_reservoir7.png',\n",
       "  'no_oil_reservoir/no_oil_reservoir70.png',\n",
       "  'no_oil_reservoir/no_oil_reservoir71.png',\n",
       "  'no_oil_reservoir/no_oil_reservoir72.png',\n",
       "  'no_oil_reservoir/no_oil_reservoir73.png',\n",
       "  'no_oil_reservoir/no_oil_reservoir74.png',\n",
       "  'no_oil_reservoir/no_oil_reservoir75.png',\n",
       "  'no_oil_reservoir/no_oil_reservoir76.png',\n",
       "  'no_oil_reservoir/no_oil_reservoir77.png',\n",
       "  'no_oil_reservoir/no_oil_reservoir78.png',\n",
       "  'no_oil_reservoir/no_oil_reservoir79.png',\n",
       "  'no_oil_reservoir/no_oil_reservoir8.png',\n",
       "  'no_oil_reservoir/no_oil_reservoir80.png',\n",
       "  'no_oil_reservoir/no_oil_reservoir81.png',\n",
       "  'no_oil_reservoir/no_oil_reservoir82.png',\n",
       "  'no_oil_reservoir/no_oil_reservoir83.png',\n",
       "  'no_oil_reservoir/no_oil_reservoir84.png',\n",
       "  'no_oil_reservoir/no_oil_reservoir85.png',\n",
       "  'no_oil_reservoir/no_oil_reservoir86.png',\n",
       "  'no_oil_reservoir/no_oil_reservoir87.png',\n",
       "  'no_oil_reservoir/no_oil_reservoir88.png',\n",
       "  'no_oil_reservoir/no_oil_reservoir89.png',\n",
       "  'no_oil_reservoir/no_oil_reservoir9.png',\n",
       "  'no_oil_reservoir/no_oil_reservoir90.png',\n",
       "  'no_oil_reservoir/no_oil_reservoir91.png',\n",
       "  'no_oil_reservoir/no_oil_reservoir92.png',\n",
       "  'no_oil_reservoir/no_oil_reservoir93.png',\n",
       "  'no_oil_reservoir/no_oil_reservoir94.png',\n",
       "  'no_oil_reservoir/no_oil_reservoir95.png',\n",
       "  'no_oil_reservoir/no_oil_reservoir96.png',\n",
       "  'no_oil_reservoir/no_oil_reservoir97.png',\n",
       "  'no_oil_reservoir/no_oil_reservoir98.png',\n",
       "  'no_oil_reservoir/no_oil_reservoir99.png',\n",
       "  'oil_reservoir/oil_reservoir0.png',\n",
       "  'oil_reservoir/oil_reservoir1.png',\n",
       "  'oil_reservoir/oil_reservoir10.png',\n",
       "  'oil_reservoir/oil_reservoir11.png',\n",
       "  'oil_reservoir/oil_reservoir12.png',\n",
       "  'oil_reservoir/oil_reservoir13.png',\n",
       "  'oil_reservoir/oil_reservoir14.png',\n",
       "  'oil_reservoir/oil_reservoir15.png',\n",
       "  'oil_reservoir/oil_reservoir16.png',\n",
       "  'oil_reservoir/oil_reservoir17.png',\n",
       "  'oil_reservoir/oil_reservoir18.png',\n",
       "  'oil_reservoir/oil_reservoir19.png',\n",
       "  'oil_reservoir/oil_reservoir2.png',\n",
       "  'oil_reservoir/oil_reservoir20.png',\n",
       "  'oil_reservoir/oil_reservoir21.png',\n",
       "  'oil_reservoir/oil_reservoir22.png',\n",
       "  'oil_reservoir/oil_reservoir23.png',\n",
       "  'oil_reservoir/oil_reservoir24.png',\n",
       "  'oil_reservoir/oil_reservoir25.png',\n",
       "  'oil_reservoir/oil_reservoir26.png',\n",
       "  'oil_reservoir/oil_reservoir27.png',\n",
       "  'oil_reservoir/oil_reservoir28.png',\n",
       "  'oil_reservoir/oil_reservoir29.png',\n",
       "  'oil_reservoir/oil_reservoir3.png',\n",
       "  'oil_reservoir/oil_reservoir30.png',\n",
       "  'oil_reservoir/oil_reservoir31.png',\n",
       "  'oil_reservoir/oil_reservoir32.png',\n",
       "  'oil_reservoir/oil_reservoir33.png',\n",
       "  'oil_reservoir/oil_reservoir34.png',\n",
       "  'oil_reservoir/oil_reservoir35.png',\n",
       "  'oil_reservoir/oil_reservoir36.png',\n",
       "  'oil_reservoir/oil_reservoir37.png',\n",
       "  'oil_reservoir/oil_reservoir38.png',\n",
       "  'oil_reservoir/oil_reservoir39.png',\n",
       "  'oil_reservoir/oil_reservoir4.png',\n",
       "  'oil_reservoir/oil_reservoir40.png',\n",
       "  'oil_reservoir/oil_reservoir41.png',\n",
       "  'oil_reservoir/oil_reservoir42.png',\n",
       "  'oil_reservoir/oil_reservoir43.png',\n",
       "  'oil_reservoir/oil_reservoir44.png',\n",
       "  'oil_reservoir/oil_reservoir45.png',\n",
       "  'oil_reservoir/oil_reservoir46.png',\n",
       "  'oil_reservoir/oil_reservoir47.png',\n",
       "  'oil_reservoir/oil_reservoir48.png',\n",
       "  'oil_reservoir/oil_reservoir49.png',\n",
       "  'oil_reservoir/oil_reservoir5.png',\n",
       "  'oil_reservoir/oil_reservoir50.png',\n",
       "  'oil_reservoir/oil_reservoir51.png',\n",
       "  'oil_reservoir/oil_reservoir52.png',\n",
       "  'oil_reservoir/oil_reservoir53.png',\n",
       "  'oil_reservoir/oil_reservoir54.png',\n",
       "  'oil_reservoir/oil_reservoir55.png',\n",
       "  'oil_reservoir/oil_reservoir56.png',\n",
       "  'oil_reservoir/oil_reservoir57.png',\n",
       "  'oil_reservoir/oil_reservoir58.png',\n",
       "  'oil_reservoir/oil_reservoir59.png',\n",
       "  'oil_reservoir/oil_reservoir6.png',\n",
       "  'oil_reservoir/oil_reservoir60.png',\n",
       "  'oil_reservoir/oil_reservoir61.png',\n",
       "  'oil_reservoir/oil_reservoir62.png',\n",
       "  'oil_reservoir/oil_reservoir7.png',\n",
       "  'oil_reservoir/oil_reservoir8.png',\n",
       "  'oil_reservoir/oil_reservoir9.png'],\n",
       " '_filepaths': ['dataset2/train/no_oil_reservoir/no_oil_reservoir0.png',\n",
       "  'dataset2/train/no_oil_reservoir/no_oil_reservoir1.png',\n",
       "  'dataset2/train/no_oil_reservoir/no_oil_reservoir10.png',\n",
       "  'dataset2/train/no_oil_reservoir/no_oil_reservoir100.png',\n",
       "  'dataset2/train/no_oil_reservoir/no_oil_reservoir101.png',\n",
       "  'dataset2/train/no_oil_reservoir/no_oil_reservoir102.png',\n",
       "  'dataset2/train/no_oil_reservoir/no_oil_reservoir103.png',\n",
       "  'dataset2/train/no_oil_reservoir/no_oil_reservoir104.png',\n",
       "  'dataset2/train/no_oil_reservoir/no_oil_reservoir105.png',\n",
       "  'dataset2/train/no_oil_reservoir/no_oil_reservoir106.png',\n",
       "  'dataset2/train/no_oil_reservoir/no_oil_reservoir107.png',\n",
       "  'dataset2/train/no_oil_reservoir/no_oil_reservoir108.png',\n",
       "  'dataset2/train/no_oil_reservoir/no_oil_reservoir109.png',\n",
       "  'dataset2/train/no_oil_reservoir/no_oil_reservoir11.png',\n",
       "  'dataset2/train/no_oil_reservoir/no_oil_reservoir110.png',\n",
       "  'dataset2/train/no_oil_reservoir/no_oil_reservoir111.png',\n",
       "  'dataset2/train/no_oil_reservoir/no_oil_reservoir112.png',\n",
       "  'dataset2/train/no_oil_reservoir/no_oil_reservoir113.png',\n",
       "  'dataset2/train/no_oil_reservoir/no_oil_reservoir114.png',\n",
       "  'dataset2/train/no_oil_reservoir/no_oil_reservoir115.png',\n",
       "  'dataset2/train/no_oil_reservoir/no_oil_reservoir116.png',\n",
       "  'dataset2/train/no_oil_reservoir/no_oil_reservoir117.png',\n",
       "  'dataset2/train/no_oil_reservoir/no_oil_reservoir118.png',\n",
       "  'dataset2/train/no_oil_reservoir/no_oil_reservoir119.png',\n",
       "  'dataset2/train/no_oil_reservoir/no_oil_reservoir12.png',\n",
       "  'dataset2/train/no_oil_reservoir/no_oil_reservoir120.png',\n",
       "  'dataset2/train/no_oil_reservoir/no_oil_reservoir121.png',\n",
       "  'dataset2/train/no_oil_reservoir/no_oil_reservoir122.png',\n",
       "  'dataset2/train/no_oil_reservoir/no_oil_reservoir123.png',\n",
       "  'dataset2/train/no_oil_reservoir/no_oil_reservoir124.png',\n",
       "  'dataset2/train/no_oil_reservoir/no_oil_reservoir125.png',\n",
       "  'dataset2/train/no_oil_reservoir/no_oil_reservoir126.png',\n",
       "  'dataset2/train/no_oil_reservoir/no_oil_reservoir127.png',\n",
       "  'dataset2/train/no_oil_reservoir/no_oil_reservoir128.png',\n",
       "  'dataset2/train/no_oil_reservoir/no_oil_reservoir129.png',\n",
       "  'dataset2/train/no_oil_reservoir/no_oil_reservoir13.png',\n",
       "  'dataset2/train/no_oil_reservoir/no_oil_reservoir130.png',\n",
       "  'dataset2/train/no_oil_reservoir/no_oil_reservoir131.png',\n",
       "  'dataset2/train/no_oil_reservoir/no_oil_reservoir132.png',\n",
       "  'dataset2/train/no_oil_reservoir/no_oil_reservoir133.png',\n",
       "  'dataset2/train/no_oil_reservoir/no_oil_reservoir134.png',\n",
       "  'dataset2/train/no_oil_reservoir/no_oil_reservoir135.png',\n",
       "  'dataset2/train/no_oil_reservoir/no_oil_reservoir136.png',\n",
       "  'dataset2/train/no_oil_reservoir/no_oil_reservoir137.png',\n",
       "  'dataset2/train/no_oil_reservoir/no_oil_reservoir138.png',\n",
       "  'dataset2/train/no_oil_reservoir/no_oil_reservoir139.png',\n",
       "  'dataset2/train/no_oil_reservoir/no_oil_reservoir14.png',\n",
       "  'dataset2/train/no_oil_reservoir/no_oil_reservoir140.png',\n",
       "  'dataset2/train/no_oil_reservoir/no_oil_reservoir141.png',\n",
       "  'dataset2/train/no_oil_reservoir/no_oil_reservoir142.png',\n",
       "  'dataset2/train/no_oil_reservoir/no_oil_reservoir143.png',\n",
       "  'dataset2/train/no_oil_reservoir/no_oil_reservoir144.png',\n",
       "  'dataset2/train/no_oil_reservoir/no_oil_reservoir145.png',\n",
       "  'dataset2/train/no_oil_reservoir/no_oil_reservoir146.png',\n",
       "  'dataset2/train/no_oil_reservoir/no_oil_reservoir147.png',\n",
       "  'dataset2/train/no_oil_reservoir/no_oil_reservoir148.png',\n",
       "  'dataset2/train/no_oil_reservoir/no_oil_reservoir149.png',\n",
       "  'dataset2/train/no_oil_reservoir/no_oil_reservoir15.png',\n",
       "  'dataset2/train/no_oil_reservoir/no_oil_reservoir150.png',\n",
       "  'dataset2/train/no_oil_reservoir/no_oil_reservoir151.png',\n",
       "  'dataset2/train/no_oil_reservoir/no_oil_reservoir152.png',\n",
       "  'dataset2/train/no_oil_reservoir/no_oil_reservoir153.png',\n",
       "  'dataset2/train/no_oil_reservoir/no_oil_reservoir154.png',\n",
       "  'dataset2/train/no_oil_reservoir/no_oil_reservoir155.png',\n",
       "  'dataset2/train/no_oil_reservoir/no_oil_reservoir156.png',\n",
       "  'dataset2/train/no_oil_reservoir/no_oil_reservoir157.png',\n",
       "  'dataset2/train/no_oil_reservoir/no_oil_reservoir158.png',\n",
       "  'dataset2/train/no_oil_reservoir/no_oil_reservoir159.png',\n",
       "  'dataset2/train/no_oil_reservoir/no_oil_reservoir16.png',\n",
       "  'dataset2/train/no_oil_reservoir/no_oil_reservoir160.png',\n",
       "  'dataset2/train/no_oil_reservoir/no_oil_reservoir161.png',\n",
       "  'dataset2/train/no_oil_reservoir/no_oil_reservoir162.png',\n",
       "  'dataset2/train/no_oil_reservoir/no_oil_reservoir163.png',\n",
       "  'dataset2/train/no_oil_reservoir/no_oil_reservoir164.png',\n",
       "  'dataset2/train/no_oil_reservoir/no_oil_reservoir165.png',\n",
       "  'dataset2/train/no_oil_reservoir/no_oil_reservoir166.png',\n",
       "  'dataset2/train/no_oil_reservoir/no_oil_reservoir167.png',\n",
       "  'dataset2/train/no_oil_reservoir/no_oil_reservoir168.png',\n",
       "  'dataset2/train/no_oil_reservoir/no_oil_reservoir169.png',\n",
       "  'dataset2/train/no_oil_reservoir/no_oil_reservoir17.png',\n",
       "  'dataset2/train/no_oil_reservoir/no_oil_reservoir170.png',\n",
       "  'dataset2/train/no_oil_reservoir/no_oil_reservoir171.png',\n",
       "  'dataset2/train/no_oil_reservoir/no_oil_reservoir172.png',\n",
       "  'dataset2/train/no_oil_reservoir/no_oil_reservoir173.png',\n",
       "  'dataset2/train/no_oil_reservoir/no_oil_reservoir174.png',\n",
       "  'dataset2/train/no_oil_reservoir/no_oil_reservoir175.png',\n",
       "  'dataset2/train/no_oil_reservoir/no_oil_reservoir176.png',\n",
       "  'dataset2/train/no_oil_reservoir/no_oil_reservoir177.png',\n",
       "  'dataset2/train/no_oil_reservoir/no_oil_reservoir178.png',\n",
       "  'dataset2/train/no_oil_reservoir/no_oil_reservoir179.png',\n",
       "  'dataset2/train/no_oil_reservoir/no_oil_reservoir18.png',\n",
       "  'dataset2/train/no_oil_reservoir/no_oil_reservoir180.png',\n",
       "  'dataset2/train/no_oil_reservoir/no_oil_reservoir181.png',\n",
       "  'dataset2/train/no_oil_reservoir/no_oil_reservoir182.png',\n",
       "  'dataset2/train/no_oil_reservoir/no_oil_reservoir183.png',\n",
       "  'dataset2/train/no_oil_reservoir/no_oil_reservoir184.png',\n",
       "  'dataset2/train/no_oil_reservoir/no_oil_reservoir185.png',\n",
       "  'dataset2/train/no_oil_reservoir/no_oil_reservoir186.png',\n",
       "  'dataset2/train/no_oil_reservoir/no_oil_reservoir187.png',\n",
       "  'dataset2/train/no_oil_reservoir/no_oil_reservoir188.png',\n",
       "  'dataset2/train/no_oil_reservoir/no_oil_reservoir189.png',\n",
       "  'dataset2/train/no_oil_reservoir/no_oil_reservoir19.png',\n",
       "  'dataset2/train/no_oil_reservoir/no_oil_reservoir190.png',\n",
       "  'dataset2/train/no_oil_reservoir/no_oil_reservoir191.png',\n",
       "  'dataset2/train/no_oil_reservoir/no_oil_reservoir192.png',\n",
       "  'dataset2/train/no_oil_reservoir/no_oil_reservoir193.png',\n",
       "  'dataset2/train/no_oil_reservoir/no_oil_reservoir194.png',\n",
       "  'dataset2/train/no_oil_reservoir/no_oil_reservoir195.png',\n",
       "  'dataset2/train/no_oil_reservoir/no_oil_reservoir196.png',\n",
       "  'dataset2/train/no_oil_reservoir/no_oil_reservoir197.png',\n",
       "  'dataset2/train/no_oil_reservoir/no_oil_reservoir198.png',\n",
       "  'dataset2/train/no_oil_reservoir/no_oil_reservoir199.png',\n",
       "  'dataset2/train/no_oil_reservoir/no_oil_reservoir2.png',\n",
       "  'dataset2/train/no_oil_reservoir/no_oil_reservoir20.png',\n",
       "  'dataset2/train/no_oil_reservoir/no_oil_reservoir200.png',\n",
       "  'dataset2/train/no_oil_reservoir/no_oil_reservoir201.png',\n",
       "  'dataset2/train/no_oil_reservoir/no_oil_reservoir202.png',\n",
       "  'dataset2/train/no_oil_reservoir/no_oil_reservoir203.png',\n",
       "  'dataset2/train/no_oil_reservoir/no_oil_reservoir204.png',\n",
       "  'dataset2/train/no_oil_reservoir/no_oil_reservoir205.png',\n",
       "  'dataset2/train/no_oil_reservoir/no_oil_reservoir206.png',\n",
       "  'dataset2/train/no_oil_reservoir/no_oil_reservoir207.png',\n",
       "  'dataset2/train/no_oil_reservoir/no_oil_reservoir208.png',\n",
       "  'dataset2/train/no_oil_reservoir/no_oil_reservoir209.png',\n",
       "  'dataset2/train/no_oil_reservoir/no_oil_reservoir21.png',\n",
       "  'dataset2/train/no_oil_reservoir/no_oil_reservoir210.png',\n",
       "  'dataset2/train/no_oil_reservoir/no_oil_reservoir211.png',\n",
       "  'dataset2/train/no_oil_reservoir/no_oil_reservoir212.png',\n",
       "  'dataset2/train/no_oil_reservoir/no_oil_reservoir213.png',\n",
       "  'dataset2/train/no_oil_reservoir/no_oil_reservoir214.png',\n",
       "  'dataset2/train/no_oil_reservoir/no_oil_reservoir215.png',\n",
       "  'dataset2/train/no_oil_reservoir/no_oil_reservoir216.png',\n",
       "  'dataset2/train/no_oil_reservoir/no_oil_reservoir217.png',\n",
       "  'dataset2/train/no_oil_reservoir/no_oil_reservoir218.png',\n",
       "  'dataset2/train/no_oil_reservoir/no_oil_reservoir219.png',\n",
       "  'dataset2/train/no_oil_reservoir/no_oil_reservoir22.png',\n",
       "  'dataset2/train/no_oil_reservoir/no_oil_reservoir220.png',\n",
       "  'dataset2/train/no_oil_reservoir/no_oil_reservoir221.png',\n",
       "  'dataset2/train/no_oil_reservoir/no_oil_reservoir222.png',\n",
       "  'dataset2/train/no_oil_reservoir/no_oil_reservoir223.png',\n",
       "  'dataset2/train/no_oil_reservoir/no_oil_reservoir23.png',\n",
       "  'dataset2/train/no_oil_reservoir/no_oil_reservoir24.png',\n",
       "  'dataset2/train/no_oil_reservoir/no_oil_reservoir25.png',\n",
       "  'dataset2/train/no_oil_reservoir/no_oil_reservoir26.png',\n",
       "  'dataset2/train/no_oil_reservoir/no_oil_reservoir27.png',\n",
       "  'dataset2/train/no_oil_reservoir/no_oil_reservoir28.png',\n",
       "  'dataset2/train/no_oil_reservoir/no_oil_reservoir29.png',\n",
       "  'dataset2/train/no_oil_reservoir/no_oil_reservoir3.png',\n",
       "  'dataset2/train/no_oil_reservoir/no_oil_reservoir30.png',\n",
       "  'dataset2/train/no_oil_reservoir/no_oil_reservoir31.png',\n",
       "  'dataset2/train/no_oil_reservoir/no_oil_reservoir32.png',\n",
       "  'dataset2/train/no_oil_reservoir/no_oil_reservoir33.png',\n",
       "  'dataset2/train/no_oil_reservoir/no_oil_reservoir34.png',\n",
       "  'dataset2/train/no_oil_reservoir/no_oil_reservoir35.png',\n",
       "  'dataset2/train/no_oil_reservoir/no_oil_reservoir36.png',\n",
       "  'dataset2/train/no_oil_reservoir/no_oil_reservoir37.png',\n",
       "  'dataset2/train/no_oil_reservoir/no_oil_reservoir38.png',\n",
       "  'dataset2/train/no_oil_reservoir/no_oil_reservoir39.png',\n",
       "  'dataset2/train/no_oil_reservoir/no_oil_reservoir4.png',\n",
       "  'dataset2/train/no_oil_reservoir/no_oil_reservoir40.png',\n",
       "  'dataset2/train/no_oil_reservoir/no_oil_reservoir41.png',\n",
       "  'dataset2/train/no_oil_reservoir/no_oil_reservoir42.png',\n",
       "  'dataset2/train/no_oil_reservoir/no_oil_reservoir43.png',\n",
       "  'dataset2/train/no_oil_reservoir/no_oil_reservoir44.png',\n",
       "  'dataset2/train/no_oil_reservoir/no_oil_reservoir45.png',\n",
       "  'dataset2/train/no_oil_reservoir/no_oil_reservoir46.png',\n",
       "  'dataset2/train/no_oil_reservoir/no_oil_reservoir47.png',\n",
       "  'dataset2/train/no_oil_reservoir/no_oil_reservoir48.png',\n",
       "  'dataset2/train/no_oil_reservoir/no_oil_reservoir49.png',\n",
       "  'dataset2/train/no_oil_reservoir/no_oil_reservoir5.png',\n",
       "  'dataset2/train/no_oil_reservoir/no_oil_reservoir50.png',\n",
       "  'dataset2/train/no_oil_reservoir/no_oil_reservoir51.png',\n",
       "  'dataset2/train/no_oil_reservoir/no_oil_reservoir52.png',\n",
       "  'dataset2/train/no_oil_reservoir/no_oil_reservoir53.png',\n",
       "  'dataset2/train/no_oil_reservoir/no_oil_reservoir54.png',\n",
       "  'dataset2/train/no_oil_reservoir/no_oil_reservoir55.png',\n",
       "  'dataset2/train/no_oil_reservoir/no_oil_reservoir56.png',\n",
       "  'dataset2/train/no_oil_reservoir/no_oil_reservoir57.png',\n",
       "  'dataset2/train/no_oil_reservoir/no_oil_reservoir58.png',\n",
       "  'dataset2/train/no_oil_reservoir/no_oil_reservoir59.png',\n",
       "  'dataset2/train/no_oil_reservoir/no_oil_reservoir6.png',\n",
       "  'dataset2/train/no_oil_reservoir/no_oil_reservoir60.png',\n",
       "  'dataset2/train/no_oil_reservoir/no_oil_reservoir61.png',\n",
       "  'dataset2/train/no_oil_reservoir/no_oil_reservoir62.png',\n",
       "  'dataset2/train/no_oil_reservoir/no_oil_reservoir63.png',\n",
       "  'dataset2/train/no_oil_reservoir/no_oil_reservoir64.png',\n",
       "  'dataset2/train/no_oil_reservoir/no_oil_reservoir65.png',\n",
       "  'dataset2/train/no_oil_reservoir/no_oil_reservoir66.png',\n",
       "  'dataset2/train/no_oil_reservoir/no_oil_reservoir67.png',\n",
       "  'dataset2/train/no_oil_reservoir/no_oil_reservoir68.png',\n",
       "  'dataset2/train/no_oil_reservoir/no_oil_reservoir69.png',\n",
       "  'dataset2/train/no_oil_reservoir/no_oil_reservoir7.png',\n",
       "  'dataset2/train/no_oil_reservoir/no_oil_reservoir70.png',\n",
       "  'dataset2/train/no_oil_reservoir/no_oil_reservoir71.png',\n",
       "  'dataset2/train/no_oil_reservoir/no_oil_reservoir72.png',\n",
       "  'dataset2/train/no_oil_reservoir/no_oil_reservoir73.png',\n",
       "  'dataset2/train/no_oil_reservoir/no_oil_reservoir74.png',\n",
       "  'dataset2/train/no_oil_reservoir/no_oil_reservoir75.png',\n",
       "  'dataset2/train/no_oil_reservoir/no_oil_reservoir76.png',\n",
       "  'dataset2/train/no_oil_reservoir/no_oil_reservoir77.png',\n",
       "  'dataset2/train/no_oil_reservoir/no_oil_reservoir78.png',\n",
       "  'dataset2/train/no_oil_reservoir/no_oil_reservoir79.png',\n",
       "  'dataset2/train/no_oil_reservoir/no_oil_reservoir8.png',\n",
       "  'dataset2/train/no_oil_reservoir/no_oil_reservoir80.png',\n",
       "  'dataset2/train/no_oil_reservoir/no_oil_reservoir81.png',\n",
       "  'dataset2/train/no_oil_reservoir/no_oil_reservoir82.png',\n",
       "  'dataset2/train/no_oil_reservoir/no_oil_reservoir83.png',\n",
       "  'dataset2/train/no_oil_reservoir/no_oil_reservoir84.png',\n",
       "  'dataset2/train/no_oil_reservoir/no_oil_reservoir85.png',\n",
       "  'dataset2/train/no_oil_reservoir/no_oil_reservoir86.png',\n",
       "  'dataset2/train/no_oil_reservoir/no_oil_reservoir87.png',\n",
       "  'dataset2/train/no_oil_reservoir/no_oil_reservoir88.png',\n",
       "  'dataset2/train/no_oil_reservoir/no_oil_reservoir89.png',\n",
       "  'dataset2/train/no_oil_reservoir/no_oil_reservoir9.png',\n",
       "  'dataset2/train/no_oil_reservoir/no_oil_reservoir90.png',\n",
       "  'dataset2/train/no_oil_reservoir/no_oil_reservoir91.png',\n",
       "  'dataset2/train/no_oil_reservoir/no_oil_reservoir92.png',\n",
       "  'dataset2/train/no_oil_reservoir/no_oil_reservoir93.png',\n",
       "  'dataset2/train/no_oil_reservoir/no_oil_reservoir94.png',\n",
       "  'dataset2/train/no_oil_reservoir/no_oil_reservoir95.png',\n",
       "  'dataset2/train/no_oil_reservoir/no_oil_reservoir96.png',\n",
       "  'dataset2/train/no_oil_reservoir/no_oil_reservoir97.png',\n",
       "  'dataset2/train/no_oil_reservoir/no_oil_reservoir98.png',\n",
       "  'dataset2/train/no_oil_reservoir/no_oil_reservoir99.png',\n",
       "  'dataset2/train/oil_reservoir/oil_reservoir0.png',\n",
       "  'dataset2/train/oil_reservoir/oil_reservoir1.png',\n",
       "  'dataset2/train/oil_reservoir/oil_reservoir10.png',\n",
       "  'dataset2/train/oil_reservoir/oil_reservoir11.png',\n",
       "  'dataset2/train/oil_reservoir/oil_reservoir12.png',\n",
       "  'dataset2/train/oil_reservoir/oil_reservoir13.png',\n",
       "  'dataset2/train/oil_reservoir/oil_reservoir14.png',\n",
       "  'dataset2/train/oil_reservoir/oil_reservoir15.png',\n",
       "  'dataset2/train/oil_reservoir/oil_reservoir16.png',\n",
       "  'dataset2/train/oil_reservoir/oil_reservoir17.png',\n",
       "  'dataset2/train/oil_reservoir/oil_reservoir18.png',\n",
       "  'dataset2/train/oil_reservoir/oil_reservoir19.png',\n",
       "  'dataset2/train/oil_reservoir/oil_reservoir2.png',\n",
       "  'dataset2/train/oil_reservoir/oil_reservoir20.png',\n",
       "  'dataset2/train/oil_reservoir/oil_reservoir21.png',\n",
       "  'dataset2/train/oil_reservoir/oil_reservoir22.png',\n",
       "  'dataset2/train/oil_reservoir/oil_reservoir23.png',\n",
       "  'dataset2/train/oil_reservoir/oil_reservoir24.png',\n",
       "  'dataset2/train/oil_reservoir/oil_reservoir25.png',\n",
       "  'dataset2/train/oil_reservoir/oil_reservoir26.png',\n",
       "  'dataset2/train/oil_reservoir/oil_reservoir27.png',\n",
       "  'dataset2/train/oil_reservoir/oil_reservoir28.png',\n",
       "  'dataset2/train/oil_reservoir/oil_reservoir29.png',\n",
       "  'dataset2/train/oil_reservoir/oil_reservoir3.png',\n",
       "  'dataset2/train/oil_reservoir/oil_reservoir30.png',\n",
       "  'dataset2/train/oil_reservoir/oil_reservoir31.png',\n",
       "  'dataset2/train/oil_reservoir/oil_reservoir32.png',\n",
       "  'dataset2/train/oil_reservoir/oil_reservoir33.png',\n",
       "  'dataset2/train/oil_reservoir/oil_reservoir34.png',\n",
       "  'dataset2/train/oil_reservoir/oil_reservoir35.png',\n",
       "  'dataset2/train/oil_reservoir/oil_reservoir36.png',\n",
       "  'dataset2/train/oil_reservoir/oil_reservoir37.png',\n",
       "  'dataset2/train/oil_reservoir/oil_reservoir38.png',\n",
       "  'dataset2/train/oil_reservoir/oil_reservoir39.png',\n",
       "  'dataset2/train/oil_reservoir/oil_reservoir4.png',\n",
       "  'dataset2/train/oil_reservoir/oil_reservoir40.png',\n",
       "  'dataset2/train/oil_reservoir/oil_reservoir41.png',\n",
       "  'dataset2/train/oil_reservoir/oil_reservoir42.png',\n",
       "  'dataset2/train/oil_reservoir/oil_reservoir43.png',\n",
       "  'dataset2/train/oil_reservoir/oil_reservoir44.png',\n",
       "  'dataset2/train/oil_reservoir/oil_reservoir45.png',\n",
       "  'dataset2/train/oil_reservoir/oil_reservoir46.png',\n",
       "  'dataset2/train/oil_reservoir/oil_reservoir47.png',\n",
       "  'dataset2/train/oil_reservoir/oil_reservoir48.png',\n",
       "  'dataset2/train/oil_reservoir/oil_reservoir49.png',\n",
       "  'dataset2/train/oil_reservoir/oil_reservoir5.png',\n",
       "  'dataset2/train/oil_reservoir/oil_reservoir50.png',\n",
       "  'dataset2/train/oil_reservoir/oil_reservoir51.png',\n",
       "  'dataset2/train/oil_reservoir/oil_reservoir52.png',\n",
       "  'dataset2/train/oil_reservoir/oil_reservoir53.png',\n",
       "  'dataset2/train/oil_reservoir/oil_reservoir54.png',\n",
       "  'dataset2/train/oil_reservoir/oil_reservoir55.png',\n",
       "  'dataset2/train/oil_reservoir/oil_reservoir56.png',\n",
       "  'dataset2/train/oil_reservoir/oil_reservoir57.png',\n",
       "  'dataset2/train/oil_reservoir/oil_reservoir58.png',\n",
       "  'dataset2/train/oil_reservoir/oil_reservoir59.png',\n",
       "  'dataset2/train/oil_reservoir/oil_reservoir6.png',\n",
       "  'dataset2/train/oil_reservoir/oil_reservoir60.png',\n",
       "  'dataset2/train/oil_reservoir/oil_reservoir61.png',\n",
       "  'dataset2/train/oil_reservoir/oil_reservoir62.png',\n",
       "  'dataset2/train/oil_reservoir/oil_reservoir7.png',\n",
       "  'dataset2/train/oil_reservoir/oil_reservoir8.png',\n",
       "  'dataset2/train/oil_reservoir/oil_reservoir9.png'],\n",
       " 'n': 287,\n",
       " 'batch_size': 32,\n",
       " 'seed': None,\n",
       " 'shuffle': True,\n",
       " 'batch_index': 0,\n",
       " 'total_batches_seen': 0,\n",
       " 'lock': <unlocked _thread.lock object at 0x7f0ed8a000f0>,\n",
       " 'index_array': None,\n",
       " 'index_generator': <generator object Iterator._flow_index at 0x7f0ed88dd8d0>}"
      ]
     },
     "execution_count": 539,
     "metadata": {},
     "output_type": "execute_result"
    }
   ],
   "source": [
    "train_generator.__dict__"
   ]
  },
  {
   "cell_type": "code",
   "execution_count": 540,
   "metadata": {},
   "outputs": [
    {
     "name": "stdout",
     "output_type": "stream",
     "text": [
      "Found 62 images belonging to 2 classes.\n"
     ]
    }
   ],
   "source": [
    "val_generator = datagen.flow_from_directory(\n",
    "    os.path.join(data_dir,val_dir),\n",
    "    target_size=(img_width, img_height),\n",
    "    batch_size=batch_size,\n",
    "    class_mode='binary')"
   ]
  },
  {
   "cell_type": "code",
   "execution_count": 541,
   "metadata": {},
   "outputs": [
    {
     "name": "stdout",
     "output_type": "stream",
     "text": [
      "Found 62 images belonging to 2 classes.\n"
     ]
    }
   ],
   "source": [
    "test_generator = datagen.flow_from_directory(\n",
    "    os.path.join(data_dir,test_dir),\n",
    "    target_size=(img_width, img_height),\n",
    "    batch_size=batch_size,\n",
    "    class_mode='binary')"
   ]
  },
  {
   "cell_type": "code",
   "execution_count": 542,
   "metadata": {},
   "outputs": [],
   "source": [
    "# Количество изображений для обучения\n",
    "nb_train_samples = train_generator.samples\n",
    "# Количество изображений для проверки\n",
    "nb_validation_samples = val_generator.samples\n",
    "# Количество изображений для тестирования\n",
    "nb_test_samples =test_generator.samples"
   ]
  },
  {
   "cell_type": "code",
   "execution_count": 543,
   "metadata": {},
   "outputs": [
    {
     "data": {
      "text/plain": [
       "(287, 62, 62)"
      ]
     },
     "execution_count": 543,
     "metadata": {},
     "output_type": "execute_result"
    }
   ],
   "source": [
    "nb_train_samples, nb_validation_samples, nb_test_samples"
   ]
  },
  {
   "cell_type": "markdown",
   "metadata": {},
   "source": [
    "# Model Training"
   ]
  },
  {
   "cell_type": "code",
   "execution_count": 544,
   "metadata": {},
   "outputs": [
    {
     "name": "stdout",
     "output_type": "stream",
     "text": [
      "Epoch 1/30\n",
      "8/8 [==============================] - 16s 2s/step - loss: 0.6324 - accuracy: 0.7765 - val_loss: 0.6456 - val_accuracy: 0.7188\n",
      "Epoch 2/30\n",
      "8/8 [==============================] - 16s 2s/step - loss: 0.6301 - accuracy: 0.7765 - val_loss: 0.6196 - val_accuracy: 0.8125\n",
      "Epoch 3/30\n",
      "8/8 [==============================] - 16s 2s/step - loss: 0.6292 - accuracy: 0.7734 - val_loss: 0.6093 - val_accuracy: 0.8438\n",
      "Epoch 4/30\n",
      "8/8 [==============================] - 16s 2s/step - loss: 0.6257 - accuracy: 0.7804 - val_loss: 0.6071 - val_accuracy: 0.8438\n",
      "Epoch 5/30\n",
      "8/8 [==============================] - 16s 2s/step - loss: 0.6218 - accuracy: 0.7882 - val_loss: 0.6497 - val_accuracy: 0.6875\n",
      "Epoch 6/30\n",
      "8/8 [==============================] - 17s 2s/step - loss: 0.6247 - accuracy: 0.7725 - val_loss: 0.6397 - val_accuracy: 0.7188\n",
      "Epoch 7/30\n",
      "8/8 [==============================] - 16s 2s/step - loss: 0.6183 - accuracy: 0.7891 - val_loss: 0.5821 - val_accuracy: 0.9062\n",
      "Epoch 8/30\n",
      "8/8 [==============================] - 16s 2s/step - loss: 0.6118 - accuracy: 0.8047 - val_loss: 0.6277 - val_accuracy: 0.7500\n",
      "Epoch 9/30\n",
      "8/8 [==============================] - 16s 2s/step - loss: 0.6214 - accuracy: 0.7686 - val_loss: 0.6167 - val_accuracy: 0.7812\n",
      "Epoch 10/30\n",
      "8/8 [==============================] - 16s 2s/step - loss: 0.6175 - accuracy: 0.7765 - val_loss: 0.5949 - val_accuracy: 0.8438\n",
      "Epoch 11/30\n",
      "8/8 [==============================] - 17s 2s/step - loss: 0.6106 - accuracy: 0.7930 - val_loss: 0.6135 - val_accuracy: 0.7812\n",
      "Epoch 12/30\n",
      "8/8 [==============================] - 16s 2s/step - loss: 0.6131 - accuracy: 0.7804 - val_loss: 0.5908 - val_accuracy: 0.8438\n",
      "Epoch 13/30\n",
      "8/8 [==============================] - 16s 2s/step - loss: 0.6076 - accuracy: 0.7922 - val_loss: 0.6105 - val_accuracy: 0.7812\n",
      "Epoch 14/30\n",
      "8/8 [==============================] - 17s 2s/step - loss: 0.6130 - accuracy: 0.7725 - val_loss: 0.5870 - val_accuracy: 0.8438\n",
      "Epoch 15/30\n",
      "8/8 [==============================] - 16s 2s/step - loss: 0.6043 - accuracy: 0.7930 - val_loss: 0.6077 - val_accuracy: 0.7812\n",
      "Epoch 16/30\n",
      "8/8 [==============================] - 16s 2s/step - loss: 0.6045 - accuracy: 0.7882 - val_loss: 0.6178 - val_accuracy: 0.7500\n",
      "Epoch 17/30\n",
      "8/8 [==============================] - 17s 2s/step - loss: 0.6045 - accuracy: 0.7843 - val_loss: 0.6167 - val_accuracy: 0.7500\n",
      "Epoch 18/30\n",
      "8/8 [==============================] - 16s 2s/step - loss: 0.6061 - accuracy: 0.7765 - val_loss: 0.6156 - val_accuracy: 0.7500\n",
      "Epoch 19/30\n",
      "8/8 [==============================] - 16s 2s/step - loss: 0.5972 - accuracy: 0.7961 - val_loss: 0.6266 - val_accuracy: 0.7188\n",
      "Epoch 20/30\n",
      "8/8 [==============================] - 16s 2s/step - loss: 0.5923 - accuracy: 0.8047 - val_loss: 0.6008 - val_accuracy: 0.7812\n",
      "Epoch 21/30\n",
      "8/8 [==============================] - 15s 2s/step - loss: 0.6006 - accuracy: 0.7804 - val_loss: 0.5868 - val_accuracy: 0.8125\n",
      "Epoch 22/30\n",
      "8/8 [==============================] - 16s 2s/step - loss: 0.6009 - accuracy: 0.7765 - val_loss: 0.5725 - val_accuracy: 0.8438\n",
      "Epoch 23/30\n",
      "8/8 [==============================] - 17s 2s/step - loss: 0.5948 - accuracy: 0.7882 - val_loss: 0.5838 - val_accuracy: 0.8125\n",
      "Epoch 24/30\n",
      "8/8 [==============================] - 16s 2s/step - loss: 0.5968 - accuracy: 0.7804 - val_loss: 0.6357 - val_accuracy: 0.6875\n",
      "Epoch 25/30\n",
      "8/8 [==============================] - 16s 2s/step - loss: 0.5972 - accuracy: 0.7765 - val_loss: 0.6080 - val_accuracy: 0.7500\n",
      "Epoch 26/30\n",
      "8/8 [==============================] - 16s 2s/step - loss: 0.5960 - accuracy: 0.7765 - val_loss: 0.6208 - val_accuracy: 0.7188\n",
      "Epoch 27/30\n",
      "8/8 [==============================] - 16s 2s/step - loss: 0.5983 - accuracy: 0.7686 - val_loss: 0.6200 - val_accuracy: 0.7188\n",
      "Epoch 28/30\n",
      "8/8 [==============================] - 16s 2s/step - loss: 0.5919 - accuracy: 0.7804 - val_loss: 0.5765 - val_accuracy: 0.8125\n",
      "Epoch 29/30\n",
      "8/8 [==============================] - 16s 2s/step - loss: 0.5888 - accuracy: 0.7843 - val_loss: 0.6185 - val_accuracy: 0.7188\n",
      "Epoch 30/30\n",
      "8/8 [==============================] - 16s 2s/step - loss: 0.5913 - accuracy: 0.7765 - val_loss: 0.5883 - val_accuracy: 0.7812\n"
     ]
    }
   ],
   "source": [
    "history = model.fit_generator(\n",
    "    train_generator,\n",
    "    steps_per_epoch=nb_train_samples // batch_size,\n",
    "    epochs=epochs,\n",
    "    validation_data=val_generator,\n",
    "    validation_steps=nb_validation_samples // batch_size)\n"
   ]
  },
  {
   "cell_type": "code",
   "execution_count": 545,
   "metadata": {},
   "outputs": [
    {
     "name": "stdout",
     "output_type": "stream",
     "text": [
      "INFO:tensorflow:Assets written to: modelForPCprediction_dataset2/assets\n"
     ]
    }
   ],
   "source": [
    "model.save('modelForPCprediction_dataset2')"
   ]
  },
  {
   "cell_type": "code",
   "execution_count": 546,
   "metadata": {},
   "outputs": [
    {
     "data": {
      "image/png": "[encoded data removed]",
      "text/plain": [
       "<Figure size 576x576 with 1 Axes>"
      ]
     },
     "metadata": {
      "needs_background": "light"
     },
     "output_type": "display_data"
    }
   ],
   "source": [
    "plt.figure(figsize=(8, 8))\n",
    "plt.title(\"Learning curve\")\n",
    "plt.plot(history.history[\"accuracy\"], label=\"accuracy\")\n",
    "plt.plot(history.history[\"val_accuracy\"], label=\"val_accuracy\")\n",
    "plt.plot( np.argmax(history.history[\"val_accuracy\"]), np.max(history.history[\"val_accuracy\"]), marker=\"x\", color=\"r\", label=\"best model\")\n",
    "plt.xlabel(\"Epochs\")\n",
    "plt.ylabel(\"accuracy\")\n",
    "plt.legend();\n",
    "plt.savefig(\"Learning_curve_for_30_epochs_dataset2.png\")\n"
   ]
  },
  {
   "cell_type": "code",
   "execution_count": 547,
   "metadata": {},
   "outputs": [
    {
     "name": "stdout",
     "output_type": "stream",
     "text": [
      "Test data accuracy: 78.12%\n"
     ]
    }
   ],
   "source": [
    "scores = model.evaluate_generator(test_generator, nb_test_samples // batch_size)\n",
    "print(\"Test data accuracy: %.2f%%\" % (scores[1]*100))"
   ]
  },
  {
   "cell_type": "code",
   "execution_count": 372,
   "metadata": {},
   "outputs": [],
   "source": [
    "scores_ = model.predict(test_generator, nb_test_samples // batch_size) # use for 2nd dataset description"
   ]
  },
  {
   "cell_type": "code",
   "execution_count": 373,
   "metadata": {
    "collapsed": true,
    "jupyter": {
     "outputs_hidden": true
    }
   },
   "outputs": [
    {
     "data": {
      "text/plain": [
       "array([[0.08329883],\n",
       "       [0.0793317 ],\n",
       "       [0.06315795],\n",
       "       [0.26828182],\n",
       "       [0.10344338],\n",
       "       [0.40116602],\n",
       "       [0.370226  ],\n",
       "       [0.16413954],\n",
       "       [0.2938754 ],\n",
       "       [0.4343876 ],\n",
       "       [0.14064252],\n",
       "       [0.31242013],\n",
       "       [0.15549916],\n",
       "       [0.4279068 ],\n",
       "       [0.3871112 ],\n",
       "       [0.27273795],\n",
       "       [0.16413954],\n",
       "       [0.33922607],\n",
       "       [0.07762256],\n",
       "       [0.11711454],\n",
       "       [0.35359803],\n",
       "       [0.33503002],\n",
       "       [0.4279068 ],\n",
       "       [0.0793317 ],\n",
       "       [0.08859113],\n",
       "       [0.46951377],\n",
       "       [0.25391996],\n",
       "       [0.42679942],\n",
       "       [0.08859113],\n",
       "       [0.0931268 ],\n",
       "       [0.30121645],\n",
       "       [0.3117511 ],\n",
       "       [0.08102745],\n",
       "       [0.12350559],\n",
       "       [0.3961702 ],\n",
       "       [0.26603788],\n",
       "       [0.10064399],\n",
       "       [0.31561604],\n",
       "       [0.11711454],\n",
       "       [0.2247889 ],\n",
       "       [0.33588585],\n",
       "       [0.25175187],\n",
       "       [0.36930227],\n",
       "       [0.1387046 ],\n",
       "       [0.17738229],\n",
       "       [0.17738229],\n",
       "       [0.3263957 ],\n",
       "       [0.27566648],\n",
       "       [0.42679942],\n",
       "       [0.3961702 ],\n",
       "       [0.3157251 ],\n",
       "       [0.08102745],\n",
       "       [0.35293853],\n",
       "       [0.10064399],\n",
       "       [0.16131502],\n",
       "       [0.08329883],\n",
       "       [0.27107945],\n",
       "       [0.06876493],\n",
       "       [0.48299652],\n",
       "       [0.14064252],\n",
       "       [0.15549916],\n",
       "       [0.362756  ],\n",
       "       [0.09574941],\n",
       "       [0.09574941],\n",
       "       [0.16131502],\n",
       "       [0.27566648]], dtype=float32)"
      ]
     },
     "execution_count": 373,
     "metadata": {},
     "output_type": "execute_result"
    }
   ],
   "source": [
    "scores_"
   ]
  },
  {
   "cell_type": "code",
   "execution_count": 553,
   "metadata": {},
   "outputs": [
    {
     "name": "stdout",
     "output_type": "stream",
     "text": [
      "[[0.44035858]\n",
      " [0.44035858]\n",
      " [0.44035858]\n",
      " [0.44035858]\n",
      " [0.44035858]\n",
      " [0.44035858]\n",
      " [0.44035858]\n",
      " [0.44035858]\n",
      " [0.44035858]\n",
      " [0.44035858]\n",
      " [0.44035858]\n",
      " [0.44035858]\n",
      " [0.44035858]\n",
      " [0.44035858]\n",
      " [0.44035858]\n",
      " [0.44035858]\n",
      " [0.44035858]\n",
      " [0.44035858]\n",
      " [0.44035858]\n",
      " [0.44035858]\n",
      " [0.44035858]\n",
      " [0.44035858]\n",
      " [0.44035858]\n",
      " [0.44035858]\n",
      " [0.44035858]\n",
      " [0.44035858]\n",
      " [0.44035858]\n",
      " [0.44035858]\n",
      " [0.44035858]\n",
      " [0.44035858]\n",
      " [0.44035858]\n",
      " [0.44035858]\n",
      " [0.44035858]\n",
      " [0.44035858]\n",
      " [0.44035858]\n",
      " [0.44035858]\n",
      " [0.44035858]\n",
      " [0.44035858]\n",
      " [0.44035858]\n",
      " [0.44035858]\n",
      " [0.44035858]\n",
      " [0.44035858]\n",
      " [0.44035858]\n",
      " [0.44035858]\n",
      " [0.44035858]\n",
      " [0.44035858]\n",
      " [0.44035858]\n",
      " [0.44035858]\n",
      " [0.44035858]\n",
      " [0.44035858]\n",
      " [0.44035858]\n",
      " [0.44035858]\n",
      " [0.44035858]\n",
      " [0.44035858]\n",
      " [0.44035858]\n",
      " [0.44035858]\n",
      " [0.44035858]\n",
      " [0.44035858]\n",
      " [0.44035858]\n",
      " [0.44035858]\n",
      " [0.44035858]\n",
      " [0.44035858]\n",
      " [0.44035858]\n",
      " [0.44035858]\n",
      " [0.44035858]\n",
      " [0.44035858]\n",
      " [0.44035858]\n",
      " [0.44035858]\n",
      " [0.44035858]\n",
      " [0.44035858]\n",
      " [0.44035858]\n",
      " [0.44035858]\n",
      " [0.44035858]\n",
      " [0.44035858]\n",
      " [0.44035858]\n",
      " [0.44035858]\n",
      " [0.44035858]\n",
      " [0.44035858]\n",
      " [0.44035858]\n",
      " [0.44035858]\n",
      " [0.44035858]\n",
      " [0.44035858]\n",
      " [0.44035858]\n",
      " [0.44035858]\n",
      " [0.44035858]\n",
      " [0.44035858]\n",
      " [0.44035858]\n",
      " [0.44035858]\n",
      " [0.44035858]\n",
      " [0.44035858]\n",
      " [0.44035858]]\n"
     ]
    }
   ],
   "source": [
    "import cv2\n",
    "import imghdr\n",
    "from keras.preprocessing import image\n",
    "model = load_model('modelForPCprediction')\n",
    "model.compile(loss='binary_crossentropy',\n",
    "              optimizer='adam',\n",
    "              metrics=['accuracy'])\n",
    "def PCprediction():\n",
    "    pc_path=data_dir+'/OilReservoir'\n",
    "    images = []\n",
    "    for img in os.listdir(pc_path):\n",
    "        if \"png\" in img:\n",
    "            img = os.path.join(pc_path, img)\n",
    "            img = image.load_img(img, target_size=(img_width, img_height))\n",
    "            img = image.img_to_array(img)\n",
    "            img = np.expand_dims(img, axis=0)\n",
    "            images.append(img)\n",
    "\n",
    "    # stack up images list to pass for prediction\n",
    "    images = np.vstack(images)\n",
    "    classes = model.predict(images, batch_size=10)\n",
    "    print(classes)\n",
    "    \n",
    "PCprediction()"
   ]
  },
  {
   "cell_type": "code",
   "execution_count": null,
   "metadata": {},
   "outputs": [],
   "source": []
  },
  {
   "cell_type": "code",
   "execution_count": null,
   "metadata": {},
   "outputs": [],
   "source": [
    "root_dir = '/content/drive/My Drive/DeepCID/model_cnn'\n",
    "\n",
    "    i=0\n",
    "    for (root, dirs, files) in os.walk(root_dir):\n",
    "        for d in dirs:\n",
    "            print(dirs) \n",
    "            os.chdir(os.path.join(root, d))\n",
    "            print(os.getcwd())\n",
    "            datafile3 = './Xscale.npy'\n",
    "            Xscale = np.load(datafile3)"
   ]
  },
  {
   "cell_type": "code",
   "execution_count": null,
   "metadata": {},
   "outputs": [],
   "source": [
    "from pathlib import Path\n",
    "\n",
    "root_dir = '/content/drive/My Drive/DeepCID/model_cnn'\n",
    "datafile3 = 'Xscale.npy'\n",
    "\n",
    "i=0\n",
    "for (root, dirs, files) in os.walk(root_dir):\n",
    "    for d in dirs:\n",
    "        if not d.startswith('.'):\n",
    "            fp = Path(root) / d / datafile3\n",
    "            Xscale = np.load(str(fp))"
   ]
  }
 ],
 "metadata": {
  "kernelspec": {
   "display_name": "testEnv",
   "language": "python",
   "name": "testenv"
  },
  "language_info": {
   "codemirror_mode": {
    "name": "ipython",
    "version": 3
   },
   "file_extension": ".py",
   "mimetype": "text/x-python",
   "name": "python",
   "nbconvert_exporter": "python",
   "pygments_lexer": "ipython3",
   "version": "3.7.4"
  }
 },
 "nbformat": 4,
 "nbformat_minor": 4
}

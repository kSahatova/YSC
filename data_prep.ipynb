{
 "cells": [
  {
   "cell_type": "code",
   "execution_count": 14,
   "metadata": {},
   "outputs": [],
   "source": [
    "import numpy as np\n",
    "import os\n",
    "import matplotlib.pyplot as plt\n",
    "import shutil"
   ]
  },
  {
   "cell_type": "code",
   "execution_count": 88,
   "metadata": {},
   "outputs": [],
   "source": [
    "#delete images from directories\n",
    "#test=os.listdir('images2')\n",
    "\n",
    "test=os.listdir('images5/OilReservoir') \n",
    "for images in test:\n",
    "    if images.endswith(\".png\"):\n",
    "        os.remove(os.path.join('images5/OilReservoir', images)) "
   ]
  },
  {
   "cell_type": "code",
   "execution_count": 43,
   "metadata": {},
   "outputs": [],
   "source": [
    "inv_data = np.load('raw_inv_data/seismic_cube_raw.npy')"
   ]
  },
  {
   "cell_type": "code",
   "execution_count": 44,
   "metadata": {},
   "outputs": [],
   "source": [
    "def imgsaving(startIndex, lastIndex, counter, data_dir, label):\n",
    "    n = counter\n",
    "    if label == 'OilReservoir':\n",
    "        for i in range(startIndex, lastIndex):\n",
    "            plt.imsave(os.path.join(data_dir, \"oil_reservoir\" + str(n) + \".png\"), inv_data[:, :, i],cmap = 'seismic', format='png')\n",
    "            n += 1\n",
    "        \n",
    "    elif label == 'NoOilReservoir':\n",
    "        for i in range(startIndex, lastIndex):\n",
    "            plt.imsave(os.path.join(data_dir, \"no_oil_reservoir\" + str(n) + \".png\"), inv_data[:, :, i],cmap = 'seismic', format='png')\n",
    "            n += 1   \n",
    "            "
   ]
  },
  {
   "cell_type": "code",
   "execution_count": 84,
   "metadata": {},
   "outputs": [],
   "source": [
    "# for 'no oil reservoir' images\n",
    "index1 = 0\n",
    "index2 = 135\n",
    "index3 = 226\n",
    "index4 = 275\n",
    "index5 = 301\n",
    "index6 = 335\n",
    "index7 = 348\n",
    "index8 = 450\n",
    "\n",
    "directory = 'images/NoOilReservoir'\n",
    "directory1 = 'Prob/no_oil_reservoir'\n",
    "directory2 = 'images5/NoOilReservoir'\n",
    "label = 'NoOilReservoir'\n",
    "\n",
    "imgsaving(index1, index2, index1, directory2 , label)\n",
    "imgsaving(index3, index4, index2, directory2, label)\n",
    "imgsaving(index5, index6, index3, directory2, label)\n",
    "imgsaving(index7, index8, index4, directory2, label)\n"
   ]
  },
  {
   "cell_type": "code",
   "execution_count": 85,
   "metadata": {},
   "outputs": [
    {
     "data": {
      "text/plain": [
       "320"
      ]
     },
     "execution_count": 85,
     "metadata": {},
     "output_type": "execute_result"
    }
   ],
   "source": [
    "len(os.listdir('images5/NoOilReservoir'))"
   ]
  },
  {
   "cell_type": "code",
   "execution_count": 89,
   "metadata": {},
   "outputs": [],
   "source": [
    "# for 'oil reservoir' images\n",
    "index1 = 134\n",
    "index2 = 226\n",
    "index3 = 275\n",
    "index4 = 301\n",
    "index5 = 335\n",
    "index6 = 349\n",
    "\n",
    "\n",
    "directory = 'images2/OilReservoir'\n",
    "directory1 = 'Prob/oil_reservoir'\n",
    "directory2 = 'images5/OilReservoir'\n",
    "label = 'OilReservoir'\n",
    "\n",
    "imgsaving(index1, index2, 0, directory2, label)\n",
    "imgsaving(index3, index4, index2-index1, directory2, label)\n",
    "imgsaving(index5, index6, 116, directory2, label)\n"
   ]
  },
  {
   "cell_type": "code",
   "execution_count": 90,
   "metadata": {},
   "outputs": [
    {
     "data": {
      "text/plain": [
       "130"
      ]
     },
     "execution_count": 90,
     "metadata": {},
     "output_type": "execute_result"
    }
   ],
   "source": [
    "len(os.listdir('images5/OilReservoir'))"
   ]
  },
  {
   "cell_type": "code",
   "execution_count": 3,
   "metadata": {},
   "outputs": [],
   "source": [
    "#first dataset\n",
    "# Каталог с набором данных\n",
    "data_dir = '/home/jovyan/images'\n",
    "# Каталог с данными для обучения\n",
    "train_dir = 'train'\n",
    "# Каталог с данными для проверки\n",
    "val_dir = 'val'\n",
    "# Каталог с данными для тестирования\n",
    "test_dir = 'test'\n",
    "# Часть набора данных для тестирования\n",
    "test_data_portion = 0.15\n",
    "# Часть набора данных для проверки\n",
    "val_data_portion = 0.15\n",
    "# Количество элементов данных в одном классе\n",
    "ImagesOf_NoOil=len(os.listdir(data_dir +'/NoOilReservoir'))\n",
    "ImagesOf_Oil=len(os.listdir(data_dir +'/OilReservoir'))\n",
    "nb_images = ImagesOf_Oil #=92 Number of data items in oil reservoir class(first dataset)(file images)\n",
    "nb_images_no = ImagesOf_NoOil #= 358 Number of data items in no oil reservoir class(first dataset)(file images)\n",
    "#print(ImagesOf_NoOil,ImagesOf_Oil)"
   ]
  },
  {
   "cell_type": "code",
   "execution_count": null,
   "metadata": {},
   "outputs": [],
   "source": []
  },
  {
   "cell_type": "code",
   "execution_count": null,
   "metadata": {},
   "outputs": [],
   "source": [
    "#second dataset\n",
    "# Каталог с набором данных\n",
    "data_dir = '/home/jovyan/Prob'\n",
    "# Каталог с данными для обучения\n",
    "train_dir = 'train'\n",
    "# Каталог с данными для проверки\n",
    "val_dir = 'val'\n",
    "# Каталог с данными для тестирования\n",
    "test_dir = 'test'\n",
    "# Часть набора данных для тестирования\n",
    "test_data_portion = 0.15\n",
    "# Часть набора данных для проверки\n",
    "val_data_portion = 0.15\n",
    "# Количество элементов данных в одном классе\n",
    "ImagesOf_NoOil=len(os.listdir(data_dir +'/NoOilReservoir'))\n",
    "ImagesOf_Oil=len(os.listdir(data_dir +'/OilReservoir'))\n",
    "nb_images = ImagesOf_Oil #=92 Number of data items in oil reservoir class(first dataset)(file images2)\n",
    "nb_images_no = ImagesOf_NoOil #= 358 Number of data items in no oil reservoir class(first dataset)(file images2)\n",
    "print(ImagesOf_NoOil,ImagesOf_Oil)"
   ]
  },
  {
   "cell_type": "code",
   "execution_count": 91,
   "metadata": {},
   "outputs": [],
   "source": [
    "#first dataset without paleo channel\n",
    "# Каталог с набором данных\n",
    "data_dir = '/home/jovyan/images5'\n",
    "# Каталог с данными для обучения\n",
    "train_dir = 'train3'\n",
    "# Каталог с данными для проверки\n",
    "val_dir = 'val3'\n",
    "# Каталог с данными для тестирования\n",
    "test_dir = 'test3'\n",
    "# Часть набора данных для тестирования\n",
    "test_data_portion = 0.15\n",
    "# Часть набора данных для проверки\n",
    "val_data_portion = 0.15\n",
    "# Количество элементов данных в одном классе\n",
    "ImagesOf_NoOil=len(os.listdir(data_dir +'/NoOilReservoir'))\n",
    "ImagesOf_Oil=len(os.listdir(data_dir +'/OilReservoir'))\n",
    "nb_images = ImagesOf_Oil #=92 Number of data items in oil reservoir class(first dataset)(file images)\n",
    "nb_images_no = ImagesOf_NoOil #= 358 Number of data items in no oil reservoir class(first dataset)(file images)\n",
    "#print(ImagesOf_NoOil,ImagesOf_Oil)"
   ]
  },
  {
   "cell_type": "code",
   "execution_count": 92,
   "metadata": {},
   "outputs": [],
   "source": [
    "# 'oil_reservoir' and 'no_oil_reservoir' folders creation in 'train', 'test', 'val' folders"
   ]
  },
  {
   "cell_type": "code",
   "execution_count": 93,
   "metadata": {},
   "outputs": [],
   "source": [
    "def create_directory(dir_name):\n",
    "    if os.path.exists(dir_name):\n",
    "        shutil.rmtree(dir_name)\n",
    "    os.makedirs(dir_name)\n",
    "    os.makedirs(os.path.join(dir_name, \"oil_reservoir\"))\n",
    "    os.makedirs(os.path.join(dir_name, \"no_oil_reservoir\"))"
   ]
  },
  {
   "cell_type": "code",
   "execution_count": 94,
   "metadata": {},
   "outputs": [],
   "source": [
    "create_directory(train_dir)\n",
    "create_directory(val_dir)\n",
    "create_directory(test_dir)"
   ]
  },
  {
   "cell_type": "code",
   "execution_count": 95,
   "metadata": {},
   "outputs": [
    {
     "name": "stdout",
     "output_type": "stream",
     "text": [
      "91\n",
      "110\n"
     ]
    }
   ],
   "source": [
    "start_val_data_idx = int(nb_images * (1 - val_data_portion - test_data_portion))\n",
    "start_test_data_idx = int(nb_images * (1 - test_data_portion))\n",
    "print(start_val_data_idx)\n",
    "print(start_test_data_idx)"
   ]
  },
  {
   "cell_type": "code",
   "execution_count": 96,
   "metadata": {},
   "outputs": [
    {
     "name": "stdout",
     "output_type": "stream",
     "text": [
      "224\n",
      "272\n"
     ]
    }
   ],
   "source": [
    "start_val_data_idx_no = int(nb_images_no * (1 - val_data_portion - test_data_portion))\n",
    "start_test_data_idx_no = int(nb_images_no * (1 - test_data_portion))\n",
    "print(start_val_data_idx_no)\n",
    "print(start_test_data_idx_no)"
   ]
  },
  {
   "cell_type": "code",
   "execution_count": 97,
   "metadata": {},
   "outputs": [],
   "source": [
    "def copy_images1(start_index, end_index, source_dir, dest_dir):\n",
    "    for i in range(start_index, end_index):\n",
    "        shutil.copy2(os.path.join(source_dir, \"no_oil_reservoir\" + str(i) + \".png\"), \n",
    "                   os.path.join(dest_dir, \"no_oil_reservoir\"))\n",
    "        "
   ]
  },
  {
   "cell_type": "code",
   "execution_count": 98,
   "metadata": {},
   "outputs": [],
   "source": [
    "def copy_images(start_index, end_index, source_dir, dest_dir):\n",
    "    for i in range(start_index, end_index):\n",
    "        shutil.copy2(os.path.join(source_dir, \"oil_reservoir\" + str(i) + \".png\"), \n",
    "                   os.path.join(dest_dir, \"oil_reservoir\"))\n",
    "\n",
    "#shutil.copy2(os.path.join(source_dir, \"oil_reservoir\" + str(i) + \".png\"), \n",
    "      #              os.path.join(dest_dir, \"oil_reservoir\"))"
   ]
  },
  {
   "cell_type": "code",
   "execution_count": 100,
   "metadata": {},
   "outputs": [],
   "source": [
    "copy_images(0, start_val_data_idx, data_dir, train_dir)\n",
    "copy_images(start_val_data_idx, start_test_data_idx, data_dir, val_dir)\n",
    "copy_images(start_test_data_idx, nb_images-1, data_dir, test_dir)"
   ]
  },
  {
   "cell_type": "code",
   "execution_count": 101,
   "metadata": {},
   "outputs": [
    {
     "ename": "FileNotFoundError",
     "evalue": "[Errno 2] No such file or directory: '/home/jovyan/images5/no_oil_reservoir184.png'",
     "output_type": "error",
     "traceback": [
      "\u001b[0;31m---------------------------------------------------------------------------\u001b[0m",
      "\u001b[0;31mFileNotFoundError\u001b[0m                         Traceback (most recent call last)",
      "\u001b[0;32m<ipython-input-101-d1d2ce630e78>\u001b[0m in \u001b[0;36m<module>\u001b[0;34m\u001b[0m\n\u001b[0;32m----> 1\u001b[0;31m \u001b[0mcopy_images1\u001b[0m\u001b[0;34m(\u001b[0m\u001b[0;36m0\u001b[0m\u001b[0;34m,\u001b[0m \u001b[0mstart_val_data_idx_no\u001b[0m\u001b[0;34m,\u001b[0m \u001b[0mdata_dir\u001b[0m\u001b[0;34m,\u001b[0m \u001b[0mtrain_dir\u001b[0m\u001b[0;34m)\u001b[0m\u001b[0;34m\u001b[0m\u001b[0;34m\u001b[0m\u001b[0m\n\u001b[0m\u001b[1;32m      2\u001b[0m \u001b[0mcopy_images1\u001b[0m\u001b[0;34m(\u001b[0m\u001b[0mstart_val_data_idx_no\u001b[0m\u001b[0;34m,\u001b[0m \u001b[0mstart_test_data_idx_no\u001b[0m\u001b[0;34m,\u001b[0m \u001b[0mdata_dir\u001b[0m\u001b[0;34m,\u001b[0m \u001b[0mval_dir\u001b[0m\u001b[0;34m)\u001b[0m\u001b[0;34m\u001b[0m\u001b[0;34m\u001b[0m\u001b[0m\n\u001b[1;32m      3\u001b[0m \u001b[0mcopy_images1\u001b[0m\u001b[0;34m(\u001b[0m\u001b[0mstart_test_data_idx_no\u001b[0m\u001b[0;34m,\u001b[0m \u001b[0mnb_images_no\u001b[0m\u001b[0;34m,\u001b[0m \u001b[0mdata_dir\u001b[0m\u001b[0;34m,\u001b[0m \u001b[0mtest_dir\u001b[0m\u001b[0;34m)\u001b[0m\u001b[0;34m\u001b[0m\u001b[0;34m\u001b[0m\u001b[0m\n",
      "\u001b[0;32m<ipython-input-97-5516dd83a90b>\u001b[0m in \u001b[0;36mcopy_images1\u001b[0;34m(start_index, end_index, source_dir, dest_dir)\u001b[0m\n\u001b[1;32m      2\u001b[0m     \u001b[0;32mfor\u001b[0m \u001b[0mi\u001b[0m \u001b[0;32min\u001b[0m \u001b[0mrange\u001b[0m\u001b[0;34m(\u001b[0m\u001b[0mstart_index\u001b[0m\u001b[0;34m,\u001b[0m \u001b[0mend_index\u001b[0m\u001b[0;34m)\u001b[0m\u001b[0;34m:\u001b[0m\u001b[0;34m\u001b[0m\u001b[0;34m\u001b[0m\u001b[0m\n\u001b[1;32m      3\u001b[0m         shutil.copy2(os.path.join(source_dir, \"no_oil_reservoir\" + str(i) + \".png\"), \n\u001b[0;32m----> 4\u001b[0;31m                    os.path.join(dest_dir, \"no_oil_reservoir\"))\n\u001b[0m\u001b[1;32m      5\u001b[0m \u001b[0;34m\u001b[0m\u001b[0m\n",
      "\u001b[0;32m/opt/conda/lib/python3.7/shutil.py\u001b[0m in \u001b[0;36mcopy2\u001b[0;34m(src, dst, follow_symlinks)\u001b[0m\n\u001b[1;32m    264\u001b[0m     \u001b[0;32mif\u001b[0m \u001b[0mos\u001b[0m\u001b[0;34m.\u001b[0m\u001b[0mpath\u001b[0m\u001b[0;34m.\u001b[0m\u001b[0misdir\u001b[0m\u001b[0;34m(\u001b[0m\u001b[0mdst\u001b[0m\u001b[0;34m)\u001b[0m\u001b[0;34m:\u001b[0m\u001b[0;34m\u001b[0m\u001b[0;34m\u001b[0m\u001b[0m\n\u001b[1;32m    265\u001b[0m         \u001b[0mdst\u001b[0m \u001b[0;34m=\u001b[0m \u001b[0mos\u001b[0m\u001b[0;34m.\u001b[0m\u001b[0mpath\u001b[0m\u001b[0;34m.\u001b[0m\u001b[0mjoin\u001b[0m\u001b[0;34m(\u001b[0m\u001b[0mdst\u001b[0m\u001b[0;34m,\u001b[0m \u001b[0mos\u001b[0m\u001b[0;34m.\u001b[0m\u001b[0mpath\u001b[0m\u001b[0;34m.\u001b[0m\u001b[0mbasename\u001b[0m\u001b[0;34m(\u001b[0m\u001b[0msrc\u001b[0m\u001b[0;34m)\u001b[0m\u001b[0;34m)\u001b[0m\u001b[0;34m\u001b[0m\u001b[0;34m\u001b[0m\u001b[0m\n\u001b[0;32m--> 266\u001b[0;31m     \u001b[0mcopyfile\u001b[0m\u001b[0;34m(\u001b[0m\u001b[0msrc\u001b[0m\u001b[0;34m,\u001b[0m \u001b[0mdst\u001b[0m\u001b[0;34m,\u001b[0m \u001b[0mfollow_symlinks\u001b[0m\u001b[0;34m=\u001b[0m\u001b[0mfollow_symlinks\u001b[0m\u001b[0;34m)\u001b[0m\u001b[0;34m\u001b[0m\u001b[0;34m\u001b[0m\u001b[0m\n\u001b[0m\u001b[1;32m    267\u001b[0m     \u001b[0mcopystat\u001b[0m\u001b[0;34m(\u001b[0m\u001b[0msrc\u001b[0m\u001b[0;34m,\u001b[0m \u001b[0mdst\u001b[0m\u001b[0;34m,\u001b[0m \u001b[0mfollow_symlinks\u001b[0m\u001b[0;34m=\u001b[0m\u001b[0mfollow_symlinks\u001b[0m\u001b[0;34m)\u001b[0m\u001b[0;34m\u001b[0m\u001b[0;34m\u001b[0m\u001b[0m\n\u001b[1;32m    268\u001b[0m     \u001b[0;32mreturn\u001b[0m \u001b[0mdst\u001b[0m\u001b[0;34m\u001b[0m\u001b[0;34m\u001b[0m\u001b[0m\n",
      "\u001b[0;32m/opt/conda/lib/python3.7/shutil.py\u001b[0m in \u001b[0;36mcopyfile\u001b[0;34m(src, dst, follow_symlinks)\u001b[0m\n\u001b[1;32m    118\u001b[0m         \u001b[0mos\u001b[0m\u001b[0;34m.\u001b[0m\u001b[0msymlink\u001b[0m\u001b[0;34m(\u001b[0m\u001b[0mos\u001b[0m\u001b[0;34m.\u001b[0m\u001b[0mreadlink\u001b[0m\u001b[0;34m(\u001b[0m\u001b[0msrc\u001b[0m\u001b[0;34m)\u001b[0m\u001b[0;34m,\u001b[0m \u001b[0mdst\u001b[0m\u001b[0;34m)\u001b[0m\u001b[0;34m\u001b[0m\u001b[0;34m\u001b[0m\u001b[0m\n\u001b[1;32m    119\u001b[0m     \u001b[0;32melse\u001b[0m\u001b[0;34m:\u001b[0m\u001b[0;34m\u001b[0m\u001b[0;34m\u001b[0m\u001b[0m\n\u001b[0;32m--> 120\u001b[0;31m         \u001b[0;32mwith\u001b[0m \u001b[0mopen\u001b[0m\u001b[0;34m(\u001b[0m\u001b[0msrc\u001b[0m\u001b[0;34m,\u001b[0m \u001b[0;34m'rb'\u001b[0m\u001b[0;34m)\u001b[0m \u001b[0;32mas\u001b[0m \u001b[0mfsrc\u001b[0m\u001b[0;34m:\u001b[0m\u001b[0;34m\u001b[0m\u001b[0;34m\u001b[0m\u001b[0m\n\u001b[0m\u001b[1;32m    121\u001b[0m             \u001b[0;32mwith\u001b[0m \u001b[0mopen\u001b[0m\u001b[0;34m(\u001b[0m\u001b[0mdst\u001b[0m\u001b[0;34m,\u001b[0m \u001b[0;34m'wb'\u001b[0m\u001b[0;34m)\u001b[0m \u001b[0;32mas\u001b[0m \u001b[0mfdst\u001b[0m\u001b[0;34m:\u001b[0m\u001b[0;34m\u001b[0m\u001b[0;34m\u001b[0m\u001b[0m\n\u001b[1;32m    122\u001b[0m                 \u001b[0mcopyfileobj\u001b[0m\u001b[0;34m(\u001b[0m\u001b[0mfsrc\u001b[0m\u001b[0;34m,\u001b[0m \u001b[0mfdst\u001b[0m\u001b[0;34m)\u001b[0m\u001b[0;34m\u001b[0m\u001b[0;34m\u001b[0m\u001b[0m\n",
      "\u001b[0;31mFileNotFoundError\u001b[0m: [Errno 2] No such file or directory: '/home/jovyan/images5/no_oil_reservoir184.png'"
     ]
    }
   ],
   "source": [
    "copy_images1(0, start_val_data_idx_no, data_dir, train_dir)\n",
    "copy_images1(start_val_data_idx_no, start_test_data_idx_no, data_dir, val_dir)\n",
    "copy_images1(start_test_data_idx_no, nb_images_no, data_dir, test_dir)"
   ]
  },
  {
   "cell_type": "code",
   "execution_count": 45,
   "metadata": {},
   "outputs": [
    {
     "name": "stdout",
     "output_type": "stream",
     "text": [
      "65 250\n",
      "14 54\n",
      "13 54\n"
     ]
    }
   ],
   "source": [
    "list1train,list2train = os.listdir(train_dir+\"/oil_reservoir\"),os.listdir(train_dir+\"/no_oil_reservoir\")# dir is your directory path\n",
    "list1val,list2val=os.listdir(val_dir+\"/oil_reservoir\"),os.listdir(val_dir+\"/no_oil_reservoir\")\n",
    "list1test,list2test=os.listdir(test_dir+\"/oil_reservoir\"),os.listdir(test_dir+\"/no_oil_reservoir\")\n",
    "list1train,list2train = len(list1train),len(list2train)\n",
    "list1val,list2val=len(list1val),len(list2val)\n",
    "list1test,list2test=len(list1test),len(list2test)\n",
    "print (list1train,list2train )\n",
    "print(list1val,list2val)\n",
    "print(list1test,list2test)"
   ]
  },
  {
   "cell_type": "code",
   "execution_count": 20,
   "metadata": {},
   "outputs": [],
   "source": [
    "os.chdir('Prob/oil_reservoir')"
   ]
  },
  {
   "cell_type": "code",
   "execution_count": 30,
   "metadata": {},
   "outputs": [
    {
     "data": {
      "text/plain": [
       "'/home/jovyan/Prob/oil_reservoir'"
      ]
     },
     "execution_count": 30,
     "metadata": {},
     "output_type": "execute_result"
    }
   ],
   "source": [
    "os.getcwd()"
   ]
  },
  {
   "cell_type": "code",
   "execution_count": null,
   "metadata": {},
   "outputs": [],
   "source": [
    "os.listdir()"
   ]
  },
  {
   "cell_type": "code",
   "execution_count": 32,
   "metadata": {},
   "outputs": [],
   "source": [
    "from keras.preprocessing.image import ImageDataGenerator"
   ]
  },
  {
   "cell_type": "code",
   "execution_count": 33,
   "metadata": {},
   "outputs": [],
   "source": [
    "datagen = ImageDataGenerator()"
   ]
  },
  {
   "cell_type": "code",
   "execution_count": null,
   "metadata": {},
   "outputs": [],
   "source": [
    "it = datagen.flow_from_directory(X, y, ...)"
   ]
  },
  {
   "cell_type": "code",
   "execution_count": 42,
   "metadata": {},
   "outputs": [
    {
     "name": "stdout",
     "output_type": "stream",
     "text": [
      "243\n",
      "53\n",
      "88\n"
     ]
    }
   ],
   "source": [
    "print(len(os.listdir('train2/oil_reservoir'))+len(os.listdir('train2/no_oil_reservoir')))\n",
    "print(len(os.listdir('val2/oil_reservoir'))+len(os.listdir('val2/no_oil_reservoir')))\n",
    "print(len(os.listdir('test2/oil_reservoir'))+len(os.listdir('test2/no_oil_reservoir')))"
   ]
  },
  {
   "cell_type": "code",
   "execution_count": 38,
   "metadata": {},
   "outputs": [
    {
     "data": {
      "text/plain": [
       "49"
      ]
     },
     "execution_count": 38,
     "metadata": {},
     "output_type": "execute_result"
    }
   ],
   "source": [
    "len(os.listdir('val2/no_oil_reservoir'))"
   ]
  },
  {
   "cell_type": "code",
   "execution_count": 41,
   "metadata": {},
   "outputs": [
    {
     "data": {
      "text/plain": [
       "358"
      ]
     },
     "execution_count": 41,
     "metadata": {},
     "output_type": "execute_result"
    }
   ],
   "source": [
    "len(os.listdir('images/NoOilReservoir'))"
   ]
  },
  {
   "cell_type": "code",
   "execution_count": null,
   "metadata": {},
   "outputs": [],
   "source": []
  }
 ],
 "metadata": {
  "kernelspec": {
   "display_name": "Python 3",
   "language": "python",
   "name": "python3"
  },
  "language_info": {
   "codemirror_mode": {
    "name": "ipython",
    "version": 3
   },
   "file_extension": ".py",
   "mimetype": "text/x-python",
   "name": "python",
   "nbconvert_exporter": "python",
   "pygments_lexer": "ipython3",
   "version": "3.7.4"
  }
 },
 "nbformat": 4,
 "nbformat_minor": 4
}

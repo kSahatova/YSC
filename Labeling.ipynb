{
 "cells": [
  {
   "cell_type": "code",
   "execution_count": 2,
   "metadata": {},
   "outputs": [],
   "source": [
    "import matplotlib.pyplot as plt\n",
    "import numpy as np\n",
    "import os\n",
    "inv_data = np.load('raw_inv_data/seismic_cube_inversed.npy')\n",
    "raw_data = np.load('raw_inv_data/seismic_cube_raw.npy')"
   ]
  },
  {
   "cell_type": "code",
   "execution_count": 5,
   "metadata": {},
   "outputs": [],
   "source": [
    "#delete images from directories\n",
    "#test=os.listdir('images2')\n",
    "\n",
    "test=os.listdir('images4') \n",
    "for images in test:\n",
    "    if images.endswith(\".png\"):\n",
    "        os.remove(os.path.join('images4', images)) \n"
   ]
  },
  {
   "cell_type": "code",
   "execution_count": 18,
   "metadata": {},
   "outputs": [],
   "source": [
    "#create the first dataset\n",
    "nOil,nNo=0,0\n",
    "\n",
    "def imgsavingOil(startIndex, lastIndex, counter):\n",
    "    n = counter\n",
    "    for i in range(startIndex, lastIndex):\n",
    "        plt.imsave('images/oil_reservoir'+str(n)+'.png',raw_data[:,:,i],cmap = 'seismic', format='png')\n",
    "        plt.imsave('images/OilReservoir/oil_reservoir'+str(n)+'.png',raw_data[:,:,i] ,cmap = 'seismic', format='png')\n",
    "        n += 1\n",
    "    return n\n",
    "\n",
    "def imgsavingNoOil(startIndex, lastIndex, counter):\n",
    "    n = counter\n",
    "    for i in range(startIndex, lastIndex):\n",
    "        plt.imsave('images/no_oil_reservoir' +str(n)+'.png', raw_data[:, :, i],cmap = 'seismic', format='png')\n",
    "        plt.imsave('images/NoOilReservoir/no_oil_reservoir' +str(n)+'.png', raw_data[:, :, i],cmap = 'seismic', format='png')\n",
    "        n += 1\n",
    "    return n\n",
    "\n",
    "nOil=imgsavingOil(134, 226,0)\n",
    "nNo=imgsavingNoOil(0,134,0)\n",
    "nNo=imgsavingNoOil(226,450,nNo)\n",
    "\n"
   ]
  },
  {
   "cell_type": "code",
   "execution_count": 22,
   "metadata": {},
   "outputs": [],
   "source": [
    "\n",
    "#create the second dataset\n",
    "\n",
    "nOil,nNo=0,0\n",
    "#plt.imsave('image2/OilReservoir'+str(oil)+'.png',inv_data[:,:i],cmap = 'seismic', format='png')\n",
    "def imgsavingOil(startIndex, lastIndex, counter):\n",
    "    n = counter\n",
    "    for i in range(startIndex, lastIndex):\n",
    "        plt.imsave('images2/oil_reservoir'+str(n)+'.png',raw_data[:,:,i],cmap = 'seismic', format='png')\n",
    "        plt.imsave('images2/OilReservoir/oil_reservoir'+str(n)+'.png',raw_data[:,:,i] ,cmap = 'seismic', format='png')\n",
    "        n += 1\n",
    "    return n\n",
    "\n",
    "def imgsavingNoOil(startIndex, lastIndex, counter):\n",
    "    n = counter\n",
    "    for i in range(startIndex, lastIndex):\n",
    "        plt.imsave('images2/no_oil_reservoir' +str(n)+'.png', raw_data[:, :, i],cmap = 'seismic', format='png')\n",
    "        plt.imsave('images2/NoOilReservoir/no_oil_reservoir' +str(n)+'.png', raw_data[:, :, i],cmap = 'seismic', format='png')\n",
    "        n += 1\n",
    "    return n\n",
    "\n",
    "nOil=imgsavingOil(134,226,0)\n",
    "nOil=imgsavingOil(275,301,nOil)\n",
    "nOil=imgsavingOil(335,348,nOil)\n",
    "nNo=imgsavingNoOil(0,134,0)\n",
    "nNo=imgsavingNoOil(226,275,nNo)\n",
    "nNo=imgsavingNoOil(301,335,nNo)\n",
    "nNo=imgsavingNoOil(348,450,nNo)\n",
    "\n"
   ]
  },
  {
   "cell_type": "code",
   "execution_count": 12,
   "metadata": {},
   "outputs": [
    {
     "name": "stdout",
     "output_type": "stream",
     "text": [
      "450\n"
     ]
    },
    {
     "data": {
      "text/plain": [
       "\"\\nfor i in range(450):\\n    #a='g'+str(i)+'.' \\n    #a='r'+str(i)+'.' # if filename=no_reservoir and oil_reservoir\\n    matching1 = [s for s in f1 if a in s]\\n    matching2 = [s for s in f2 if a in s]\\n    if matching2:\\n        print(i)\\n\\nn=0\\nfor i in f1:\\n    print(i)\\n    \\n    if n==358: #for f1 # if n==358: # for f2\\n        n=0\\n    if str(n) in i :\\n        print(True)\\n    else:\\n        print(False,n,i)\\n    \\n    n+=1\\n\""
      ]
     },
     "execution_count": 12,
     "metadata": {},
     "output_type": "execute_result"
    }
   ],
   "source": [
    "import os\n",
    "file1=\"/home/jovyan/images\"\n",
    "file2=\"/home/jovyan/\"\n",
    "f1=[]\n",
    "f2=[]\n",
    "for file in os.listdir(file1):\n",
    "    if file.endswith(\".png\"):\n",
    "        f1.append(os.path.join(file1, file))\n",
    "for file in os.listdir(file2):\n",
    "    if file.endswith(\".png\"):\n",
    "        f2.append(os.path.join(file2, file))\n",
    "import re\n",
    "\n",
    "def atoi(text):\n",
    "    return int(text) if text.isdigit() else text\n",
    "\n",
    "def natural_keys(text):\n",
    "   return [ atoi(c) for c in re.split(r'(\\d+)', text) ]\n",
    "f1.sort(key=natural_keys)\n",
    "print(len(f1))\n",
    "f2.sort(key=natural_keys)\n",
    "'''\n",
    "for i in range(450):\n",
    "    #a='g'+str(i)+'.' \n",
    "    #a='r'+str(i)+'.' # if filename=no_reservoir and oil_reservoir\n",
    "    matching1 = [s for s in f1 if a in s]\n",
    "    matching2 = [s for s in f2 if a in s]\n",
    "    if matching2:\n",
    "        print(i)\n",
    "\n",
    "n=0\n",
    "for i in f1:\n",
    "    print(i)\n",
    "    \n",
    "    if n==358: #for f1 # if n==358: # for f2\n",
    "        n=0\n",
    "    if str(n) in i :\n",
    "        print(True)\n",
    "    else:\n",
    "        print(False,n,i)\n",
    "    \n",
    "    n+=1\n",
    "'''"
   ]
  },
  {
   "cell_type": "code",
   "execution_count": null,
   "metadata": {},
   "outputs": [],
   "source": []
  }
 ],
 "metadata": {
  "kernelspec": {
   "display_name": "Python 3",
   "language": "python",
   "name": "python3"
  },
  "language_info": {
   "codemirror_mode": {
    "name": "ipython",
    "version": 3
   },
   "file_extension": ".py",
   "mimetype": "text/x-python",
   "name": "python",
   "nbconvert_exporter": "python",
   "pygments_lexer": "ipython3",
   "version": "3.7.4"
  }
 },
 "nbformat": 4,
 "nbformat_minor": 4
}
